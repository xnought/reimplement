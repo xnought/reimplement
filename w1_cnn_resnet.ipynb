{
  "cells": [
    {
      "cell_type": "markdown",
      "metadata": {
        "vscode": {
          "languageId": "plaintext"
        },
        "id": "tliWHcwrsfut"
      },
      "source": [
        "# Resnet\n",
        "\n",
        "Resnet paper: https://arxiv.org/abs/1512.03385\n",
        "\n",
        "Goal: implement a resnet for MNIST dataset.\n",
        "\n",
        "References:\n",
        "\n",
        "- https://flax.readthedocs.io/en/latest/mnist_tutorial.html"
      ]
    },
    {
      "cell_type": "markdown",
      "source": [
        "## Load in the MNIST Data"
      ],
      "metadata": {
        "id": "KtWzHg8rtJ5C"
      }
    },
    {
      "cell_type": "code",
      "source": [
        "import tensorflow_datasets as tfds\n",
        "import tensorflow as tf\n",
        "\n",
        "tf.random.set_seed(0)\n",
        "\n",
        "train_steps = 2000\n",
        "eval_every = 500\n",
        "batch_size = 64\n",
        "\n",
        "train_ds = tfds.load(\"mnist\", split=\"train\")\n",
        "test_ds = tfds.load(\"mnist\", split=\"test\")\n",
        "\n",
        "def preprocess(ds, shuffle=False):\n",
        "  normalize = lambda x: { \"image\": tf.cast(x[\"image\"], tf.float32) / 255., \"label\": x[\"label\"] }\n",
        "  ds = ds.map(normalize)\n",
        "  if shuffle:\n",
        "    ds = ds.repeat().shuffle(1024)\n",
        "  return ds\n",
        "\n",
        "train_ds = preprocess(train_ds, shuffle=True)\n",
        "train_ds = train_ds.batch(batch_size, drop_remainder=True).take(train_steps).prefetch(1)\n",
        "\n",
        "test_ds = preprocess(test_ds)\n",
        "test_ds = test_ds.batch(batch_size, drop_remainder=True).prefetch(1)"
      ],
      "metadata": {
        "id": "6rO2_NBfsuLK"
      },
      "execution_count": 95,
      "outputs": []
    },
    {
      "cell_type": "code",
      "source": [
        "import matplotlib.pyplot as plt\n",
        "plt.style.use(\"dark_background\")\n",
        "\n",
        "def view_batch(batch, rows=5, cols=5):\n",
        "  fig, axs = plt.subplots(rows, cols, figsize=(12, 12))\n",
        "  for i, ax in enumerate(axs.flat):\n",
        "    ax.imshow(batch[\"image\"][i], cmap=\"gray\")\n",
        "    ax.set_title(f\"Label: {batch['label'][i]}\")\n",
        "    ax.axis('off')\n",
        "\n",
        "\n",
        "\n",
        "view_batch(test_ds.as_numpy_iterator().next(), rows=3, cols=3)"
      ],
      "metadata": {
        "id": "qflqgTOSvRoW",
        "outputId": "23eacb4a-f3da-462b-d8d2-7638cf279a08",
        "colab": {
          "base_uri": "https://localhost:8080/",
          "height": 983
        }
      },
      "execution_count": 96,
      "outputs": [
        {
          "output_type": "display_data",
          "data": {
            "text/plain": [
              "<Figure size 1200x1200 with 9 Axes>"
            ],
            "image/png": "[encoded data removed]"
          },
          "metadata": {}
        }
      ]
    },
    {
      "cell_type": "markdown",
      "source": [
        "## The ResNet Block"
      ],
      "metadata": {
        "id": "uppts5vdtto5"
      }
    },
    {
      "cell_type": "code",
      "source": [
        "from flax import nnx\n",
        "import optax\n",
        "\n",
        "class ResBlock(nnx.Module):\n",
        "  def __init__(self, in_filters, rngs, out_filters=None):\n",
        "    super().__init__()\n",
        "    if out_filters is None:\n",
        "      out_filters = in_filters\n",
        "    diff_filters = out_filters != in_filters\n",
        "\n",
        "    self.c0 = nnx.Conv(in_features=in_filters,\n",
        "                       out_features=out_filters,\n",
        "                       kernel_size=(3,3),\n",
        "                       strides=2 if diff_filters else 1, # halve the H and W in the case different out_filters\n",
        "                       padding=\"SAME\",\n",
        "                       rngs=rngs)\n",
        "    self.bn0 = nnx.BatchNorm(out_filters, rngs=rngs)\n",
        "    self.c1 = nnx.Conv(in_features=out_filters,\n",
        "                      out_features=out_filters,\n",
        "                      kernel_size=(3,3),\n",
        "                      strides=1,\n",
        "                      padding=\"SAME\",\n",
        "                      rngs=rngs)\n",
        "    self.bn1 = nnx.BatchNorm(out_filters, rngs=rngs)\n",
        "\n",
        "    #  so the shapes match up in the residual addtion f(x) + x\n",
        "    if diff_filters:\n",
        "      self.proj = nnx.Conv(\n",
        "          in_features=in_filters,\n",
        "          out_features=out_filters,\n",
        "          kernel_size=(1,1),\n",
        "          strides=2,\n",
        "          padding=\"SAME\",\n",
        "          rngs=rngs\n",
        "      )\n",
        "    else:\n",
        "      self.proj = lambda x: x # nothing\n",
        "\n",
        "  def __call__(self, x):\n",
        "    residual = self.proj(x)\n",
        "    conv_block = lambda _input, conv2d, norm: nnx.relu(norm(conv2d(_input)))\n",
        "    x = conv_block(x, self.c0, self.bn0)\n",
        "    x = conv_block(x, self.c1, self.bn1)\n",
        "    return x + residual\n"
      ],
      "metadata": {
        "id": "j5g3mhJktsy4"
      },
      "execution_count": 97,
      "outputs": []
    },
    {
      "cell_type": "markdown",
      "source": [
        "and just make sure the shapes look good"
      ],
      "metadata": {
        "id": "A1u0d5fHA9gQ"
      }
    },
    {
      "cell_type": "code",
      "source": [
        "import jax.numpy as jnp\n",
        "\n",
        "B = 32\n",
        "H = 28\n",
        "W = 28\n",
        "C = 20\n",
        "test_input = jnp.ones((B, H, W, C)) # (B, H, W, C)\n",
        "test_input.shape"
      ],
      "metadata": {
        "id": "8YgXv7pdy0oM",
        "outputId": "da9a1792-32b8-454e-8a49-4a0b8e99091e",
        "colab": {
          "base_uri": "https://localhost:8080/"
        }
      },
      "execution_count": 98,
      "outputs": [
        {
          "output_type": "execute_result",
          "data": {
            "text/plain": [
              "(32, 28, 28, 20)"
            ]
          },
          "metadata": {},
          "execution_count": 98
        }
      ]
    },
    {
      "cell_type": "code",
      "source": [
        "b1 = ResBlock(in_filters=test_input.shape[-1], out_filters=test_input.shape[-1]*2, rngs=nnx.Rngs(0))\n",
        "b1.eval()\n",
        "b1(test_input).shape"
      ],
      "metadata": {
        "id": "nMuH9weY60sk",
        "outputId": "47bc86a8-6a91-4901-e9e9-77a814dc7e95",
        "colab": {
          "base_uri": "https://localhost:8080/"
        }
      },
      "execution_count": 99,
      "outputs": [
        {
          "output_type": "execute_result",
          "data": {
            "text/plain": [
              "(32, 14, 14, 40)"
            ]
          },
          "metadata": {},
          "execution_count": 99
        }
      ]
    },
    {
      "cell_type": "markdown",
      "source": [
        "## The High Level Model\n",
        "\n",
        "Now put together the ResNet blocks to create the entire ResNet model for my MNIST training."
      ],
      "metadata": {
        "id": "8EkVmh0xBA2P"
      }
    },
    {
      "cell_type": "code",
      "source": [
        "def gen_resnet_blocks(blocks_spec, rngs):\n",
        "    \"\"\"Takes in an array of blocks ie: [2,2,2] where each element defines the number\n",
        "    of resnet blocks and each change in element doubles the number of filters and halves the input dims.\n",
        "\n",
        "    Returns sequential model of the resnet blocks (so you can just call as a function)\n",
        "    and returns the number of filters in the last block. (the channel dim)\n",
        "    \"\"\"\n",
        "    resnet_blocks_spec = []\n",
        "    in_filters = 1\n",
        "    out_filters = 1\n",
        "    for j, b in enumerate(blocks_spec):\n",
        "      for i in range(b):\n",
        "        if i == 0 and j != 0: # for subsequent block calls double the filters\n",
        "          out_filters = 2*in_filters\n",
        "        resnet_blocks_spec.append(\n",
        "            ResBlock(\n",
        "                in_filters=in_filters,\n",
        "                out_filters=out_filters,\n",
        "                rngs=rngs\n",
        "            )\n",
        "        )\n",
        "        in_filters = out_filters\n",
        "    return nnx.Sequential(*resnet_blocks_spec), out_filters\n",
        "\n",
        "class ResNetMNIST(nnx.Module):\n",
        "  def __init__(self, blocks, rngs):\n",
        "    super().__init__()\n",
        "    self.resnet_blocks, out_filters = gen_resnet_blocks(blocks, rngs)\n",
        "    self.linear = nnx.Linear(in_features=out_filters, out_features=10, rngs=rngs)\n",
        "\n",
        "  def __call__(self, x): # x is (B, H, W, C) and in mnist (B, 28, 28, 1)\n",
        "    x = self.resnet_blocks(x) # outputs (B, H_reduced, W_reduced, C_expanded)\n",
        "    x = nnx.avg_pool(x, window_shape=(x.shape[1], x.shape[2])) # reduce to (B, 1, 1, C_expanded)\n",
        "    x = x.reshape((x.shape[0], -1))\n",
        "    x = self.linear(x)\n",
        "    return x\n",
        "\n",
        "model = ResNetMNIST(blocks=[2,2,2,2,2], rngs=nnx.Rngs(0))\n",
        "model"
      ],
      "metadata": {
        "id": "Y2BsOMxL_t_R",
        "colab": {
          "base_uri": "https://localhost:8080/"
        },
        "outputId": "d4147257-583b-4675-b970-7644f877db36"
      },
      "execution_count": 111,
      "outputs": [
        {
          "output_type": "execute_result",
          "data": {
            "text/plain": [
              "ResNetMNIST(\n",
              "  resnet_blocks=Sequential(\n",
              "    layers=[ResBlock(\n",
              "      c0=Conv(\n",
              "        kernel_shape=(3, 3, 1, 1),\n",
              "        kernel=Param(\n",
              "          value=Array(shape=(3, 3, 1, 1), dtype=float32)\n",
              "        ),\n",
              "        bias=Param(\n",
              "          value=Array([0.], dtype=float32)\n",
              "        ),\n",
              "        in_features=1,\n",
              "        out_features=1,\n",
              "        kernel_size=(3, 3),\n",
              "        strides=1,\n",
              "        padding='SAME',\n",
              "        input_dilation=1,\n",
              "        kernel_dilation=1,\n",
              "        feature_group_count=1,\n",
              "        use_bias=True,\n",
              "        mask=None,\n",
              "        dtype=None,\n",
              "        param_dtype=<class 'jax.numpy.float32'>,\n",
              "        precision=None,\n",
              "        kernel_init=<function variance_scaling.<locals>.init at 0x7cca0431f0a0>,\n",
              "        bias_init=<function zeros at 0x7cca1fcff640>,\n",
              "        conv_general_dilated=<function conv_general_dilated at 0x7cca20538670>\n",
              "      ),\n",
              "      bn0=BatchNorm(\n",
              "        mean=BatchStat(\n",
              "          value=Array([0.], dtype=float32)\n",
              "        ),\n",
              "        var=BatchStat(\n",
              "          value=Array([1.], dtype=float32)\n",
              "        ),\n",
              "        scale=Param(\n",
              "          value=Array([1.], dtype=float32)\n",
              "        ),\n",
              "        bias=Param(\n",
              "          value=Array([0.], dtype=float32)\n",
              "        ),\n",
              "        num_features=1,\n",
              "        use_running_average=False,\n",
              "        axis=-1,\n",
              "        momentum=0.99,\n",
              "        epsilon=1e-05,\n",
              "        dtype=None,\n",
              "        param_dtype=<class 'jax.numpy.float32'>,\n",
              "        use_bias=True,\n",
              "        use_scale=True,\n",
              "        bias_init=<function zeros at 0x7cca1fcff640>,\n",
              "        scale_init=<function ones at 0x7cca1fcff7f0>,\n",
              "        axis_name=None,\n",
              "        axis_index_groups=None,\n",
              "        use_fast_variance=True\n",
              "      ),\n",
              "      c1=Conv(\n",
              "        kernel_shape=(3, 3, 1, 1),\n",
              "        kernel=Param(\n",
              "          value=Array(shape=(3, 3, 1, 1), dtype=float32)\n",
              "        ),\n",
              "        bias=Param(\n",
              "          value=Array([0.], dtype=float32)\n",
              "        ),\n",
              "        in_features=1,\n",
              "        out_features=1,\n",
              "        kernel_size=(3, 3),\n",
              "        strides=1,\n",
              "        padding='SAME',\n",
              "        input_dilation=1,\n",
              "        kernel_dilation=1,\n",
              "        feature_group_count=1,\n",
              "        use_bias=True,\n",
              "        mask=None,\n",
              "        dtype=None,\n",
              "        param_dtype=<class 'jax.numpy.float32'>,\n",
              "        precision=None,\n",
              "        kernel_init=<function variance_scaling.<locals>.init at 0x7cca0431f0a0>,\n",
              "        bias_init=<function zeros at 0x7cca1fcff640>,\n",
              "        conv_general_dilated=<function conv_general_dilated at 0x7cca20538670>\n",
              "      ),\n",
              "      bn1=BatchNorm(\n",
              "        mean=BatchStat(\n",
              "          value=Array([0.], dtype=float32)\n",
              "        ),\n",
              "        var=BatchStat(\n",
              "          value=Array([1.], dtype=float32)\n",
              "        ),\n",
              "        scale=Param(\n",
              "          value=Array([1.], dtype=float32)\n",
              "        ),\n",
              "        bias=Param(\n",
              "          value=Array([0.], dtype=float32)\n",
              "        ),\n",
              "        num_features=1,\n",
              "        use_running_average=False,\n",
              "        axis=-1,\n",
              "        momentum=0.99,\n",
              "        epsilon=1e-05,\n",
              "        dtype=None,\n",
              "        param_dtype=<class 'jax.numpy.float32'>,\n",
              "        use_bias=True,\n",
              "        use_scale=True,\n",
              "        bias_init=<function zeros at 0x7cca1fcff640>,\n",
              "        scale_init=<function ones at 0x7cca1fcff7f0>,\n",
              "        axis_name=None,\n",
              "        axis_index_groups=None,\n",
              "        use_fast_variance=True\n",
              "      ),\n",
              "      proj=<function ResBlock.__init__.<locals>.<lambda> at 0x7cc6663a4940>\n",
              "    ), ResBlock(\n",
              "      c0=Conv(\n",
              "        kernel_shape=(3, 3, 1, 1),\n",
              "        kernel=Param(\n",
              "          value=Array(shape=(3, 3, 1, 1), dtype=float32)\n",
              "        ),\n",
              "        bias=Param(\n",
              "          value=Array([0.], dtype=float32)\n",
              "        ),\n",
              "        in_features=1,\n",
              "        out_features=1,\n",
              "        kernel_size=(3, 3),\n",
              "        strides=1,\n",
              "        padding='SAME',\n",
              "        input_dilation=1,\n",
              "        kernel_dilation=1,\n",
              "        feature_group_count=1,\n",
              "        use_bias=True,\n",
              "        mask=None,\n",
              "        dtype=None,\n",
              "        param_dtype=<class 'jax.numpy.float32'>,\n",
              "        precision=None,\n",
              "        kernel_init=<function variance_scaling.<locals>.init at 0x7cca0431f0a0>,\n",
              "        bias_init=<function zeros at 0x7cca1fcff640>,\n",
              "        conv_general_dilated=<function conv_general_dilated at 0x7cca20538670>\n",
              "      ),\n",
              "      bn0=BatchNorm(\n",
              "        mean=BatchStat(\n",
              "          value=Array([0.], dtype=float32)\n",
              "        ),\n",
              "        var=BatchStat(\n",
              "          value=Array([1.], dtype=float32)\n",
              "        ),\n",
              "        scale=Param(\n",
              "          value=Array([1.], dtype=float32)\n",
              "        ),\n",
              "        bias=Param(\n",
              "          value=Array([0.], dtype=float32)\n",
              "        ),\n",
              "        num_features=1,\n",
              "        use_running_average=False,\n",
              "        axis=-1,\n",
              "        momentum=0.99,\n",
              "        epsilon=1e-05,\n",
              "        dtype=None,\n",
              "        param_dtype=<class 'jax.numpy.float32'>,\n",
              "        use_bias=True,\n",
              "        use_scale=True,\n",
              "        bias_init=<function zeros at 0x7cca1fcff640>,\n",
              "        scale_init=<function ones at 0x7cca1fcff7f0>,\n",
              "        axis_name=None,\n",
              "        axis_index_groups=None,\n",
              "        use_fast_variance=True\n",
              "      ),\n",
              "      c1=Conv(\n",
              "        kernel_shape=(3, 3, 1, 1),\n",
              "        kernel=Param(\n",
              "          value=Array(shape=(3, 3, 1, 1), dtype=float32)\n",
              "        ),\n",
              "        bias=Param(\n",
              "          value=Array([0.], dtype=float32)\n",
              "        ),\n",
              "        in_features=1,\n",
              "        out_features=1,\n",
              "        kernel_size=(3, 3),\n",
              "        strides=1,\n",
              "        padding='SAME',\n",
              "        input_dilation=1,\n",
              "        kernel_dilation=1,\n",
              "        feature_group_count=1,\n",
              "        use_bias=True,\n",
              "        mask=None,\n",
              "        dtype=None,\n",
              "        param_dtype=<class 'jax.numpy.float32'>,\n",
              "        precision=None,\n",
              "        kernel_init=<function variance_scaling.<locals>.init at 0x7cca0431f0a0>,\n",
              "        bias_init=<function zeros at 0x7cca1fcff640>,\n",
              "        conv_general_dilated=<function conv_general_dilated at 0x7cca20538670>\n",
              "      ),\n",
              "      bn1=BatchNorm(\n",
              "        mean=BatchStat(\n",
              "          value=Array([0.], dtype=float32)\n",
              "        ),\n",
              "        var=BatchStat(\n",
              "          value=Array([1.], dtype=float32)\n",
              "        ),\n",
              "        scale=Param(\n",
              "          value=Array([1.], dtype=float32)\n",
              "        ),\n",
              "        bias=Param(\n",
              "          value=Array([0.], dtype=float32)\n",
              "        ),\n",
              "        num_features=1,\n",
              "        use_running_average=False,\n",
              "        axis=-1,\n",
              "        momentum=0.99,\n",
              "        epsilon=1e-05,\n",
              "        dtype=None,\n",
              "        param_dtype=<class 'jax.numpy.float32'>,\n",
              "        use_bias=True,\n",
              "        use_scale=True,\n",
              "        bias_init=<function zeros at 0x7cca1fcff640>,\n",
              "        scale_init=<function ones at 0x7cca1fcff7f0>,\n",
              "        axis_name=None,\n",
              "        axis_index_groups=None,\n",
              "        use_fast_variance=True\n",
              "      ),\n",
              "      proj=<function ResBlock.__init__.<locals>.<lambda> at 0x7cc976af2c20>\n",
              "    ), ResBlock(\n",
              "      c0=Conv(\n",
              "        kernel_shape=(3, 3, 1, 2),\n",
              "        kernel=Param(\n",
              "          value=Array(shape=(3, 3, 1, 2), dtype=float32)\n",
              "        ),\n",
              "        bias=Param(\n",
              "          value=Array(shape=(2,), dtype=float32)\n",
              "        ),\n",
              "        in_features=1,\n",
              "        out_features=2,\n",
              "        kernel_size=(3, 3),\n",
              "        strides=2,\n",
              "        padding='SAME',\n",
              "        input_dilation=1,\n",
              "        kernel_dilation=1,\n",
              "        feature_group_count=1,\n",
              "        use_bias=True,\n",
              "        mask=None,\n",
              "        dtype=None,\n",
              "        param_dtype=<class 'jax.numpy.float32'>,\n",
              "        precision=None,\n",
              "        kernel_init=<function variance_scaling.<locals>.init at 0x7cca0431f0a0>,\n",
              "        bias_init=<function zeros at 0x7cca1fcff640>,\n",
              "        conv_general_dilated=<function conv_general_dilated at 0x7cca20538670>\n",
              "      ),\n",
              "      bn0=BatchNorm(\n",
              "        mean=BatchStat(\n",
              "          value=Array(shape=(2,), dtype=float32)\n",
              "        ),\n",
              "        var=BatchStat(\n",
              "          value=Array(shape=(2,), dtype=float32)\n",
              "        ),\n",
              "        scale=Param(\n",
              "          value=Array(shape=(2,), dtype=float32)\n",
              "        ),\n",
              "        bias=Param(\n",
              "          value=Array(shape=(2,), dtype=float32)\n",
              "        ),\n",
              "        num_features=2,\n",
              "        use_running_average=False,\n",
              "        axis=-1,\n",
              "        momentum=0.99,\n",
              "        epsilon=1e-05,\n",
              "        dtype=None,\n",
              "        param_dtype=<class 'jax.numpy.float32'>,\n",
              "        use_bias=True,\n",
              "        use_scale=True,\n",
              "        bias_init=<function zeros at 0x7cca1fcff640>,\n",
              "        scale_init=<function ones at 0x7cca1fcff7f0>,\n",
              "        axis_name=None,\n",
              "        axis_index_groups=None,\n",
              "        use_fast_variance=True\n",
              "      ),\n",
              "      c1=Conv(\n",
              "        kernel_shape=(3, 3, 2, 2),\n",
              "        kernel=Param(\n",
              "          value=Array(shape=(3, 3, 2, 2), dtype=float32)\n",
              "        ),\n",
              "        bias=Param(\n",
              "          value=Array(shape=(2,), dtype=float32)\n",
              "        ),\n",
              "        in_features=2,\n",
              "        out_features=2,\n",
              "        kernel_size=(3, 3),\n",
              "        strides=1,\n",
              "        padding='SAME',\n",
              "        input_dilation=1,\n",
              "        kernel_dilation=1,\n",
              "        feature_group_count=1,\n",
              "        use_bias=True,\n",
              "        mask=None,\n",
              "        dtype=None,\n",
              "        param_dtype=<class 'jax.numpy.float32'>,\n",
              "        precision=None,\n",
              "        kernel_init=<function variance_scaling.<locals>.init at 0x7cca0431f0a0>,\n",
              "        bias_init=<function zeros at 0x7cca1fcff640>,\n",
              "        conv_general_dilated=<function conv_general_dilated at 0x7cca20538670>\n",
              "      ),\n",
              "      bn1=BatchNorm(\n",
              "        mean=BatchStat(\n",
              "          value=Array(shape=(2,), dtype=float32)\n",
              "        ),\n",
              "        var=BatchStat(\n",
              "          value=Array(shape=(2,), dtype=float32)\n",
              "        ),\n",
              "        scale=Param(\n",
              "          value=Array(shape=(2,), dtype=float32)\n",
              "        ),\n",
              "        bias=Param(\n",
              "          value=Array(shape=(2,), dtype=float32)\n",
              "        ),\n",
              "        num_features=2,\n",
              "        use_running_average=False,\n",
              "        axis=-1,\n",
              "        momentum=0.99,\n",
              "        epsilon=1e-05,\n",
              "        dtype=None,\n",
              "        param_dtype=<class 'jax.numpy.float32'>,\n",
              "        use_bias=True,\n",
              "        use_scale=True,\n",
              "        bias_init=<function zeros at 0x7cca1fcff640>,\n",
              "        scale_init=<function ones at 0x7cca1fcff7f0>,\n",
              "        axis_name=None,\n",
              "        axis_index_groups=None,\n",
              "        use_fast_variance=True\n",
              "      ),\n",
              "      proj=Conv(\n",
              "        kernel_shape=(1, 1, 1, 2),\n",
              "        kernel=Param(\n",
              "          value=Array(shape=(1, 1, 1, 2), dtype=float32)\n",
              "        ),\n",
              "        bias=Param(\n",
              "          value=Array(shape=(2,), dtype=float32)\n",
              "        ),\n",
              "        in_features=1,\n",
              "        out_features=2,\n",
              "        kernel_size=(1, 1),\n",
              "        strides=2,\n",
              "        padding='SAME',\n",
              "        input_dilation=1,\n",
              "        kernel_dilation=1,\n",
              "        feature_group_count=1,\n",
              "        use_bias=True,\n",
              "        mask=None,\n",
              "        dtype=None,\n",
              "        param_dtype=<class 'jax.numpy.float32'>,\n",
              "        precision=None,\n",
              "        kernel_init=<function variance_scaling.<locals>.init at 0x7cca0431f0a0>,\n",
              "        bias_init=<function zeros at 0x7cca1fcff640>,\n",
              "        conv_general_dilated=<function conv_general_dilated at 0x7cca20538670>\n",
              "      )\n",
              "    ), ResBlock(\n",
              "      c0=Conv(\n",
              "        kernel_shape=(3, 3, 2, 2),\n",
              "        kernel=Param(\n",
              "          value=Array(shape=(3, 3, 2, 2), dtype=float32)\n",
              "        ),\n",
              "        bias=Param(\n",
              "          value=Array(shape=(2,), dtype=float32)\n",
              "        ),\n",
              "        in_features=2,\n",
              "        out_features=2,\n",
              "        kernel_size=(3, 3),\n",
              "        strides=1,\n",
              "        padding='SAME',\n",
              "        input_dilation=1,\n",
              "        kernel_dilation=1,\n",
              "        feature_group_count=1,\n",
              "        use_bias=True,\n",
              "        mask=None,\n",
              "        dtype=None,\n",
              "        param_dtype=<class 'jax.numpy.float32'>,\n",
              "        precision=None,\n",
              "        kernel_init=<function variance_scaling.<locals>.init at 0x7cca0431f0a0>,\n",
              "        bias_init=<function zeros at 0x7cca1fcff640>,\n",
              "        conv_general_dilated=<function conv_general_dilated at 0x7cca20538670>\n",
              "      ),\n",
              "      bn0=BatchNorm(\n",
              "        mean=BatchStat(\n",
              "          value=Array(shape=(2,), dtype=float32)\n",
              "        ),\n",
              "        var=BatchStat(\n",
              "          value=Array(shape=(2,), dtype=float32)\n",
              "        ),\n",
              "        scale=Param(\n",
              "          value=Array(shape=(2,), dtype=float32)\n",
              "        ),\n",
              "        bias=Param(\n",
              "          value=Array(shape=(2,), dtype=float32)\n",
              "        ),\n",
              "        num_features=2,\n",
              "        use_running_average=False,\n",
              "        axis=-1,\n",
              "        momentum=0.99,\n",
              "        epsilon=1e-05,\n",
              "        dtype=None,\n",
              "        param_dtype=<class 'jax.numpy.float32'>,\n",
              "        use_bias=True,\n",
              "        use_scale=True,\n",
              "        bias_init=<function zeros at 0x7cca1fcff640>,\n",
              "        scale_init=<function ones at 0x7cca1fcff7f0>,\n",
              "        axis_name=None,\n",
              "        axis_index_groups=None,\n",
              "        use_fast_variance=True\n",
              "      ),\n",
              "      c1=Conv(\n",
              "        kernel_shape=(3, 3, 2, 2),\n",
              "        kernel=Param(\n",
              "          value=Array(shape=(3, 3, 2, 2), dtype=float32)\n",
              "        ),\n",
              "        bias=Param(\n",
              "          value=Array(shape=(2,), dtype=float32)\n",
              "        ),\n",
              "        in_features=2,\n",
              "        out_features=2,\n",
              "        kernel_size=(3, 3),\n",
              "        strides=1,\n",
              "        padding='SAME',\n",
              "        input_dilation=1,\n",
              "        kernel_dilation=1,\n",
              "        feature_group_count=1,\n",
              "        use_bias=True,\n",
              "        mask=None,\n",
              "        dtype=None,\n",
              "        param_dtype=<class 'jax.numpy.float32'>,\n",
              "        precision=None,\n",
              "        kernel_init=<function variance_scaling.<locals>.init at 0x7cca0431f0a0>,\n",
              "        bias_init=<function zeros at 0x7cca1fcff640>,\n",
              "        conv_general_dilated=<function conv_general_dilated at 0x7cca20538670>\n",
              "      ),\n",
              "      bn1=BatchNorm(\n",
              "        mean=BatchStat(\n",
              "          value=Array(shape=(2,), dtype=float32)\n",
              "        ),\n",
              "        var=BatchStat(\n",
              "          value=Array(shape=(2,), dtype=float32)\n",
              "        ),\n",
              "        scale=Param(\n",
              "          value=Array(shape=(2,), dtype=float32)\n",
              "        ),\n",
              "        bias=Param(\n",
              "          value=Array(shape=(2,), dtype=float32)\n",
              "        ),\n",
              "        num_features=2,\n",
              "        use_running_average=False,\n",
              "        axis=-1,\n",
              "        momentum=0.99,\n",
              "        epsilon=1e-05,\n",
              "        dtype=None,\n",
              "        param_dtype=<class 'jax.numpy.float32'>,\n",
              "        use_bias=True,\n",
              "        use_scale=True,\n",
              "        bias_init=<function zeros at 0x7cca1fcff640>,\n",
              "        scale_init=<function ones at 0x7cca1fcff7f0>,\n",
              "        axis_name=None,\n",
              "        axis_index_groups=None,\n",
              "        use_fast_variance=True\n",
              "      ),\n",
              "      proj=<function ResBlock.__init__.<locals>.<lambda> at 0x7cc6664f2560>\n",
              "    ), ResBlock(\n",
              "      c0=Conv(\n",
              "        kernel_shape=(3, 3, 2, 4),\n",
              "        kernel=Param(\n",
              "          value=Array(shape=(3, 3, 2, 4), dtype=float32)\n",
              "        ),\n",
              "        bias=Param(\n",
              "          value=Array(shape=(4,), dtype=float32)\n",
              "        ),\n",
              "        in_features=2,\n",
              "        out_features=4,\n",
              "        kernel_size=(3, 3),\n",
              "        strides=2,\n",
              "        padding='SAME',\n",
              "        input_dilation=1,\n",
              "        kernel_dilation=1,\n",
              "        feature_group_count=1,\n",
              "        use_bias=True,\n",
              "        mask=None,\n",
              "        dtype=None,\n",
              "        param_dtype=<class 'jax.numpy.float32'>,\n",
              "        precision=None,\n",
              "        kernel_init=<function variance_scaling.<locals>.init at 0x7cca0431f0a0>,\n",
              "        bias_init=<function zeros at 0x7cca1fcff640>,\n",
              "        conv_general_dilated=<function conv_general_dilated at 0x7cca20538670>\n",
              "      ),\n",
              "      bn0=BatchNorm(\n",
              "        mean=BatchStat(\n",
              "          value=Array(shape=(4,), dtype=float32)\n",
              "        ),\n",
              "        var=BatchStat(\n",
              "          value=Array(shape=(4,), dtype=float32)\n",
              "        ),\n",
              "        scale=Param(\n",
              "          value=Array(shape=(4,), dtype=float32)\n",
              "        ),\n",
              "        bias=Param(\n",
              "          value=Array(shape=(4,), dtype=float32)\n",
              "        ),\n",
              "        num_features=4,\n",
              "        use_running_average=False,\n",
              "        axis=-1,\n",
              "        momentum=0.99,\n",
              "        epsilon=1e-05,\n",
              "        dtype=None,\n",
              "        param_dtype=<class 'jax.numpy.float32'>,\n",
              "        use_bias=True,\n",
              "        use_scale=True,\n",
              "        bias_init=<function zeros at 0x7cca1fcff640>,\n",
              "        scale_init=<function ones at 0x7cca1fcff7f0>,\n",
              "        axis_name=None,\n",
              "        axis_index_groups=None,\n",
              "        use_fast_variance=True\n",
              "      ),\n",
              "      c1=Conv(\n",
              "        kernel_shape=(3, 3, 4, 4),\n",
              "        kernel=Param(\n",
              "          value=Array(shape=(3, 3, 4, 4), dtype=float32)\n",
              "        ),\n",
              "        bias=Param(\n",
              "          value=Array(shape=(4,), dtype=float32)\n",
              "        ),\n",
              "        in_features=4,\n",
              "        out_features=4,\n",
              "        kernel_size=(3, 3),\n",
              "        strides=1,\n",
              "        padding='SAME',\n",
              "        input_dilation=1,\n",
              "        kernel_dilation=1,\n",
              "        feature_group_count=1,\n",
              "        use_bias=True,\n",
              "        mask=None,\n",
              "        dtype=None,\n",
              "        param_dtype=<class 'jax.numpy.float32'>,\n",
              "        precision=None,\n",
              "        kernel_init=<function variance_scaling.<locals>.init at 0x7cca0431f0a0>,\n",
              "        bias_init=<function zeros at 0x7cca1fcff640>,\n",
              "        conv_general_dilated=<function conv_general_dilated at 0x7cca20538670>\n",
              "      ),\n",
              "      bn1=BatchNorm(\n",
              "        mean=BatchStat(\n",
              "          value=Array(shape=(4,), dtype=float32)\n",
              "        ),\n",
              "        var=BatchStat(\n",
              "          value=Array(shape=(4,), dtype=float32)\n",
              "        ),\n",
              "        scale=Param(\n",
              "          value=Array(shape=(4,), dtype=float32)\n",
              "        ),\n",
              "        bias=Param(\n",
              "          value=Array(shape=(4,), dtype=float32)\n",
              "        ),\n",
              "        num_features=4,\n",
              "        use_running_average=False,\n",
              "        axis=-1,\n",
              "        momentum=0.99,\n",
              "        epsilon=1e-05,\n",
              "        dtype=None,\n",
              "        param_dtype=<class 'jax.numpy.float32'>,\n",
              "        use_bias=True,\n",
              "        use_scale=True,\n",
              "        bias_init=<function zeros at 0x7cca1fcff640>,\n",
              "        scale_init=<function ones at 0x7cca1fcff7f0>,\n",
              "        axis_name=None,\n",
              "        axis_index_groups=None,\n",
              "        use_fast_variance=True\n",
              "      ),\n",
              "      proj=Conv(\n",
              "        kernel_shape=(1, 1, 2, 4),\n",
              "        kernel=Param(\n",
              "          value=Array(shape=(1, 1, 2, 4), dtype=float32)\n",
              "        ),\n",
              "        bias=Param(\n",
              "          value=Array(shape=(4,), dtype=float32)\n",
              "        ),\n",
              "        in_features=2,\n",
              "        out_features=4,\n",
              "        kernel_size=(1, 1),\n",
              "        strides=2,\n",
              "        padding='SAME',\n",
              "        input_dilation=1,\n",
              "        kernel_dilation=1,\n",
              "        feature_group_count=1,\n",
              "        use_bias=True,\n",
              "        mask=None,\n",
              "        dtype=None,\n",
              "        param_dtype=<class 'jax.numpy.float32'>,\n",
              "        precision=None,\n",
              "        kernel_init=<function variance_scaling.<locals>.init at 0x7cca0431f0a0>,\n",
              "        bias_init=<function zeros at 0x7cca1fcff640>,\n",
              "        conv_general_dilated=<function conv_general_dilated at 0x7cca20538670>\n",
              "      )\n",
              "    ), ResBlock(\n",
              "      c0=Conv(\n",
              "        kernel_shape=(3, 3, 4, 4),\n",
              "        kernel=Param(\n",
              "          value=Array(shape=(3, 3, 4, 4), dtype=float32)\n",
              "        ),\n",
              "        bias=Param(\n",
              "          value=Array(shape=(4,), dtype=float32)\n",
              "        ),\n",
              "        in_features=4,\n",
              "        out_features=4,\n",
              "        kernel_size=(3, 3),\n",
              "        strides=1,\n",
              "        padding='SAME',\n",
              "        input_dilation=1,\n",
              "        kernel_dilation=1,\n",
              "        feature_group_count=1,\n",
              "        use_bias=True,\n",
              "        mask=None,\n",
              "        dtype=None,\n",
              "        param_dtype=<class 'jax.numpy.float32'>,\n",
              "        precision=None,\n",
              "        kernel_init=<function variance_scaling.<locals>.init at 0x7cca0431f0a0>,\n",
              "        bias_init=<function zeros at 0x7cca1fcff640>,\n",
              "        conv_general_dilated=<function conv_general_dilated at 0x7cca20538670>\n",
              "      ),\n",
              "      bn0=BatchNorm(\n",
              "        mean=BatchStat(\n",
              "          value=Array(shape=(4,), dtype=float32)\n",
              "        ),\n",
              "        var=BatchStat(\n",
              "          value=Array(shape=(4,), dtype=float32)\n",
              "        ),\n",
              "        scale=Param(\n",
              "          value=Array(shape=(4,), dtype=float32)\n",
              "        ),\n",
              "        bias=Param(\n",
              "          value=Array(shape=(4,), dtype=float32)\n",
              "        ),\n",
              "        num_features=4,\n",
              "        use_running_average=False,\n",
              "        axis=-1,\n",
              "        momentum=0.99,\n",
              "        epsilon=1e-05,\n",
              "        dtype=None,\n",
              "        param_dtype=<class 'jax.numpy.float32'>,\n",
              "        use_bias=True,\n",
              "        use_scale=True,\n",
              "        bias_init=<function zeros at 0x7cca1fcff640>,\n",
              "        scale_init=<function ones at 0x7cca1fcff7f0>,\n",
              "        axis_name=None,\n",
              "        axis_index_groups=None,\n",
              "        use_fast_variance=True\n",
              "      ),\n",
              "      c1=Conv(\n",
              "        kernel_shape=(3, 3, 4, 4),\n",
              "        kernel=Param(\n",
              "          value=Array(shape=(3, 3, 4, 4), dtype=float32)\n",
              "        ),\n",
              "        bias=Param(\n",
              "          value=Array(shape=(4,), dtype=float32)\n",
              "        ),\n",
              "        in_features=4,\n",
              "        out_features=4,\n",
              "        kernel_size=(3, 3),\n",
              "        strides=1,\n",
              "        padding='SAME',\n",
              "        input_dilation=1,\n",
              "        kernel_dilation=1,\n",
              "        feature_group_count=1,\n",
              "        use_bias=True,\n",
              "        mask=None,\n",
              "        dtype=None,\n",
              "        param_dtype=<class 'jax.numpy.float32'>,\n",
              "        precision=None,\n",
              "        kernel_init=<function variance_scaling.<locals>.init at 0x7cca0431f0a0>,\n",
              "        bias_init=<function zeros at 0x7cca1fcff640>,\n",
              "        conv_general_dilated=<function conv_general_dilated at 0x7cca20538670>\n",
              "      ),\n",
              "      bn1=BatchNorm(\n",
              "        mean=BatchStat(\n",
              "          value=Array(shape=(4,), dtype=float32)\n",
              "        ),\n",
              "        var=BatchStat(\n",
              "          value=Array(shape=(4,), dtype=float32)\n",
              "        ),\n",
              "        scale=Param(\n",
              "          value=Array(shape=(4,), dtype=float32)\n",
              "        ),\n",
              "        bias=Param(\n",
              "          value=Array(shape=(4,), dtype=float32)\n",
              "        ),\n",
              "        num_features=4,\n",
              "        use_running_average=False,\n",
              "        axis=-1,\n",
              "        momentum=0.99,\n",
              "        epsilon=1e-05,\n",
              "        dtype=None,\n",
              "        param_dtype=<class 'jax.numpy.float32'>,\n",
              "        use_bias=True,\n",
              "        use_scale=True,\n",
              "        bias_init=<function zeros at 0x7cca1fcff640>,\n",
              "        scale_init=<function ones at 0x7cca1fcff7f0>,\n",
              "        axis_name=None,\n",
              "        axis_index_groups=None,\n",
              "        use_fast_variance=True\n",
              "      ),\n",
              "      proj=<function ResBlock.__init__.<locals>.<lambda> at 0x7cc6664f13f0>\n",
              "    ), ResBlock(\n",
              "      c0=Conv(\n",
              "        kernel_shape=(3, 3, 4, 8),\n",
              "        kernel=Param(\n",
              "          value=Array(shape=(3, 3, 4, 8), dtype=float32)\n",
              "        ),\n",
              "        bias=Param(\n",
              "          value=Array(shape=(8,), dtype=float32)\n",
              "        ),\n",
              "        in_features=4,\n",
              "        out_features=8,\n",
              "        kernel_size=(3, 3),\n",
              "        strides=2,\n",
              "        padding='SAME',\n",
              "        input_dilation=1,\n",
              "        kernel_dilation=1,\n",
              "        feature_group_count=1,\n",
              "        use_bias=True,\n",
              "        mask=None,\n",
              "        dtype=None,\n",
              "        param_dtype=<class 'jax.numpy.float32'>,\n",
              "        precision=None,\n",
              "        kernel_init=<function variance_scaling.<locals>.init at 0x7cca0431f0a0>,\n",
              "        bias_init=<function zeros at 0x7cca1fcff640>,\n",
              "        conv_general_dilated=<function conv_general_dilated at 0x7cca20538670>\n",
              "      ),\n",
              "      bn0=BatchNorm(\n",
              "        mean=BatchStat(\n",
              "          value=Array(shape=(8,), dtype=float32)\n",
              "        ),\n",
              "        var=BatchStat(\n",
              "          value=Array(shape=(8,), dtype=float32)\n",
              "        ),\n",
              "        scale=Param(\n",
              "          value=Array(shape=(8,), dtype=float32)\n",
              "        ),\n",
              "        bias=Param(\n",
              "          value=Array(shape=(8,), dtype=float32)\n",
              "        ),\n",
              "        num_features=8,\n",
              "        use_running_average=False,\n",
              "        axis=-1,\n",
              "        momentum=0.99,\n",
              "        epsilon=1e-05,\n",
              "        dtype=None,\n",
              "        param_dtype=<class 'jax.numpy.float32'>,\n",
              "        use_bias=True,\n",
              "        use_scale=True,\n",
              "        bias_init=<function zeros at 0x7cca1fcff640>,\n",
              "        scale_init=<function ones at 0x7cca1fcff7f0>,\n",
              "        axis_name=None,\n",
              "        axis_index_groups=None,\n",
              "        use_fast_variance=True\n",
              "      ),\n",
              "      c1=Conv(\n",
              "        kernel_shape=(3, 3, 8, 8),\n",
              "        kernel=Param(\n",
              "          value=Array(shape=(3, 3, 8, 8), dtype=float32)\n",
              "        ),\n",
              "        bias=Param(\n",
              "          value=Array(shape=(8,), dtype=float32)\n",
              "        ),\n",
              "        in_features=8,\n",
              "        out_features=8,\n",
              "        kernel_size=(3, 3),\n",
              "        strides=1,\n",
              "        padding='SAME',\n",
              "        input_dilation=1,\n",
              "        kernel_dilation=1,\n",
              "        feature_group_count=1,\n",
              "        use_bias=True,\n",
              "        mask=None,\n",
              "        dtype=None,\n",
              "        param_dtype=<class 'jax.numpy.float32'>,\n",
              "        precision=None,\n",
              "        kernel_init=<function variance_scaling.<locals>.init at 0x7cca0431f0a0>,\n",
              "        bias_init=<function zeros at 0x7cca1fcff640>,\n",
              "        conv_general_dilated=<function conv_general_dilated at 0x7cca20538670>\n",
              "      ),\n",
              "      bn1=BatchNorm(\n",
              "        mean=BatchStat(\n",
              "          value=Array(shape=(8,), dtype=float32)\n",
              "        ),\n",
              "        var=BatchStat(\n",
              "          value=Array(shape=(8,), dtype=float32)\n",
              "        ),\n",
              "        scale=Param(\n",
              "          value=Array(shape=(8,), dtype=float32)\n",
              "        ),\n",
              "        bias=Param(\n",
              "          value=Array(shape=(8,), dtype=float32)\n",
              "        ),\n",
              "        num_features=8,\n",
              "        use_running_average=False,\n",
              "        axis=-1,\n",
              "        momentum=0.99,\n",
              "        epsilon=1e-05,\n",
              "        dtype=None,\n",
              "        param_dtype=<class 'jax.numpy.float32'>,\n",
              "        use_bias=True,\n",
              "        use_scale=True,\n",
              "        bias_init=<function zeros at 0x7cca1fcff640>,\n",
              "        scale_init=<function ones at 0x7cca1fcff7f0>,\n",
              "        axis_name=None,\n",
              "        axis_index_groups=None,\n",
              "        use_fast_variance=True\n",
              "      ),\n",
              "      proj=Conv(\n",
              "        kernel_shape=(1, 1, 4, 8),\n",
              "        kernel=Param(\n",
              "          value=Array(shape=(1, 1, 4, 8), dtype=float32)\n",
              "        ),\n",
              "        bias=Param(\n",
              "          value=Array(shape=(8,), dtype=float32)\n",
              "        ),\n",
              "        in_features=4,\n",
              "        out_features=8,\n",
              "        kernel_size=(1, 1),\n",
              "        strides=2,\n",
              "        padding='SAME',\n",
              "        input_dilation=1,\n",
              "        kernel_dilation=1,\n",
              "        feature_group_count=1,\n",
              "        use_bias=True,\n",
              "        mask=None,\n",
              "        dtype=None,\n",
              "        param_dtype=<class 'jax.numpy.float32'>,\n",
              "        precision=None,\n",
              "        kernel_init=<function variance_scaling.<locals>.init at 0x7cca0431f0a0>,\n",
              "        bias_init=<function zeros at 0x7cca1fcff640>,\n",
              "        conv_general_dilated=<function conv_general_dilated at 0x7cca20538670>\n",
              "      )\n",
              "    ), ResBlock(\n",
              "      c0=Conv(\n",
              "        kernel_shape=(3, 3, 8, 8),\n",
              "        kernel=Param(\n",
              "          value=Array(shape=(3, 3, 8, 8), dtype=float32)\n",
              "        ),\n",
              "        bias=Param(\n",
              "          value=Array(shape=(8,), dtype=float32)\n",
              "        ),\n",
              "        in_features=8,\n",
              "        out_features=8,\n",
              "        kernel_size=(3, 3),\n",
              "        strides=1,\n",
              "        padding='SAME',\n",
              "        input_dilation=1,\n",
              "        kernel_dilation=1,\n",
              "        feature_group_count=1,\n",
              "        use_bias=True,\n",
              "        mask=None,\n",
              "        dtype=None,\n",
              "        param_dtype=<class 'jax.numpy.float32'>,\n",
              "        precision=None,\n",
              "        kernel_init=<function variance_scaling.<locals>.init at 0x7cca0431f0a0>,\n",
              "        bias_init=<function zeros at 0x7cca1fcff640>,\n",
              "        conv_general_dilated=<function conv_general_dilated at 0x7cca20538670>\n",
              "      ),\n",
              "      bn0=BatchNorm(\n",
              "        mean=BatchStat(\n",
              "          value=Array(shape=(8,), dtype=float32)\n",
              "        ),\n",
              "        var=BatchStat(\n",
              "          value=Array(shape=(8,), dtype=float32)\n",
              "        ),\n",
              "        scale=Param(\n",
              "          value=Array(shape=(8,), dtype=float32)\n",
              "        ),\n",
              "        bias=Param(\n",
              "          value=Array(shape=(8,), dtype=float32)\n",
              "        ),\n",
              "        num_features=8,\n",
              "        use_running_average=False,\n",
              "        axis=-1,\n",
              "        momentum=0.99,\n",
              "        epsilon=1e-05,\n",
              "        dtype=None,\n",
              "        param_dtype=<class 'jax.numpy.float32'>,\n",
              "        use_bias=True,\n",
              "        use_scale=True,\n",
              "        bias_init=<function zeros at 0x7cca1fcff640>,\n",
              "        scale_init=<function ones at 0x7cca1fcff7f0>,\n",
              "        axis_name=None,\n",
              "        axis_index_groups=None,\n",
              "        use_fast_variance=True\n",
              "      ),\n",
              "      c1=Conv(\n",
              "        kernel_shape=(3, 3, 8, 8),\n",
              "        kernel=Param(\n",
              "          value=Array(shape=(3, 3, 8, 8), dtype=float32)\n",
              "        ),\n",
              "        bias=Param(\n",
              "          value=Array(shape=(8,), dtype=float32)\n",
              "        ),\n",
              "        in_features=8,\n",
              "        out_features=8,\n",
              "        kernel_size=(3, 3),\n",
              "        strides=1,\n",
              "        padding='SAME',\n",
              "        input_dilation=1,\n",
              "        kernel_dilation=1,\n",
              "        feature_group_count=1,\n",
              "        use_bias=True,\n",
              "        mask=None,\n",
              "        dtype=None,\n",
              "        param_dtype=<class 'jax.numpy.float32'>,\n",
              "        precision=None,\n",
              "        kernel_init=<function variance_scaling.<locals>.init at 0x7cca0431f0a0>,\n",
              "        bias_init=<function zeros at 0x7cca1fcff640>,\n",
              "        conv_general_dilated=<function conv_general_dilated at 0x7cca20538670>\n",
              "      ),\n",
              "      bn1=BatchNorm(\n",
              "        mean=BatchStat(\n",
              "          value=Array(shape=(8,), dtype=float32)\n",
              "        ),\n",
              "        var=BatchStat(\n",
              "          value=Array(shape=(8,), dtype=float32)\n",
              "        ),\n",
              "        scale=Param(\n",
              "          value=Array(shape=(8,), dtype=float32)\n",
              "        ),\n",
              "        bias=Param(\n",
              "          value=Array(shape=(8,), dtype=float32)\n",
              "        ),\n",
              "        num_features=8,\n",
              "        use_running_average=False,\n",
              "        axis=-1,\n",
              "        momentum=0.99,\n",
              "        epsilon=1e-05,\n",
              "        dtype=None,\n",
              "        param_dtype=<class 'jax.numpy.float32'>,\n",
              "        use_bias=True,\n",
              "        use_scale=True,\n",
              "        bias_init=<function zeros at 0x7cca1fcff640>,\n",
              "        scale_init=<function ones at 0x7cca1fcff7f0>,\n",
              "        axis_name=None,\n",
              "        axis_index_groups=None,\n",
              "        use_fast_variance=True\n",
              "      ),\n",
              "      proj=<function ResBlock.__init__.<locals>.<lambda> at 0x7cc6664f3880>\n",
              "    ), ResBlock(\n",
              "      c0=Conv(\n",
              "        kernel_shape=(3, 3, 8, 16),\n",
              "        kernel=Param(\n",
              "          value=Array(shape=(3, 3, 8, 16), dtype=float32)\n",
              "        ),\n",
              "        bias=Param(\n",
              "          value=Array(shape=(16,), dtype=float32)\n",
              "        ),\n",
              "        in_features=8,\n",
              "        out_features=16,\n",
              "        kernel_size=(3, 3),\n",
              "        strides=2,\n",
              "        padding='SAME',\n",
              "        input_dilation=1,\n",
              "        kernel_dilation=1,\n",
              "        feature_group_count=1,\n",
              "        use_bias=True,\n",
              "        mask=None,\n",
              "        dtype=None,\n",
              "        param_dtype=<class 'jax.numpy.float32'>,\n",
              "        precision=None,\n",
              "        kernel_init=<function variance_scaling.<locals>.init at 0x7cca0431f0a0>,\n",
              "        bias_init=<function zeros at 0x7cca1fcff640>,\n",
              "        conv_general_dilated=<function conv_general_dilated at 0x7cca20538670>\n",
              "      ),\n",
              "      bn0=BatchNorm(\n",
              "        mean=BatchStat(\n",
              "          value=Array(shape=(16,), dtype=float32)\n",
              "        ),\n",
              "        var=BatchStat(\n",
              "          value=Array(shape=(16,), dtype=float32)\n",
              "        ),\n",
              "        scale=Param(\n",
              "          value=Array(shape=(16,), dtype=float32)\n",
              "        ),\n",
              "        bias=Param(\n",
              "          value=Array(shape=(16,), dtype=float32)\n",
              "        ),\n",
              "        num_features=16,\n",
              "        use_running_average=False,\n",
              "        axis=-1,\n",
              "        momentum=0.99,\n",
              "        epsilon=1e-05,\n",
              "        dtype=None,\n",
              "        param_dtype=<class 'jax.numpy.float32'>,\n",
              "        use_bias=True,\n",
              "        use_scale=True,\n",
              "        bias_init=<function zeros at 0x7cca1fcff640>,\n",
              "        scale_init=<function ones at 0x7cca1fcff7f0>,\n",
              "        axis_name=None,\n",
              "        axis_index_groups=None,\n",
              "        use_fast_variance=True\n",
              "      ),\n",
              "      c1=Conv(\n",
              "        kernel_shape=(3, 3, 16, 16),\n",
              "        kernel=Param(\n",
              "          value=Array(shape=(3, 3, 16, 16), dtype=float32)\n",
              "        ),\n",
              "        bias=Param(\n",
              "          value=Array(shape=(16,), dtype=float32)\n",
              "        ),\n",
              "        in_features=16,\n",
              "        out_features=16,\n",
              "        kernel_size=(3, 3),\n",
              "        strides=1,\n",
              "        padding='SAME',\n",
              "        input_dilation=1,\n",
              "        kernel_dilation=1,\n",
              "        feature_group_count=1,\n",
              "        use_bias=True,\n",
              "        mask=None,\n",
              "        dtype=None,\n",
              "        param_dtype=<class 'jax.numpy.float32'>,\n",
              "        precision=None,\n",
              "        kernel_init=<function variance_scaling.<locals>.init at 0x7cca0431f0a0>,\n",
              "        bias_init=<function zeros at 0x7cca1fcff640>,\n",
              "        conv_general_dilated=<function conv_general_dilated at 0x7cca20538670>\n",
              "      ),\n",
              "      bn1=BatchNorm(\n",
              "        mean=BatchStat(\n",
              "          value=Array(shape=(16,), dtype=float32)\n",
              "        ),\n",
              "        var=BatchStat(\n",
              "          value=Array(shape=(16,), dtype=float32)\n",
              "        ),\n",
              "        scale=Param(\n",
              "          value=Array(shape=(16,), dtype=float32)\n",
              "        ),\n",
              "        bias=Param(\n",
              "          value=Array(shape=(16,), dtype=float32)\n",
              "        ),\n",
              "        num_features=16,\n",
              "        use_running_average=False,\n",
              "        axis=-1,\n",
              "        momentum=0.99,\n",
              "        epsilon=1e-05,\n",
              "        dtype=None,\n",
              "        param_dtype=<class 'jax.numpy.float32'>,\n",
              "        use_bias=True,\n",
              "        use_scale=True,\n",
              "        bias_init=<function zeros at 0x7cca1fcff640>,\n",
              "        scale_init=<function ones at 0x7cca1fcff7f0>,\n",
              "        axis_name=None,\n",
              "        axis_index_groups=None,\n",
              "        use_fast_variance=True\n",
              "      ),\n",
              "      proj=Conv(\n",
              "        kernel_shape=(1, 1, 8, 16),\n",
              "        kernel=Param(\n",
              "          value=Array(shape=(1, 1, 8, 16), dtype=float32)\n",
              "        ),\n",
              "        bias=Param(\n",
              "          value=Array(shape=(16,), dtype=float32)\n",
              "        ),\n",
              "        in_features=8,\n",
              "        out_features=16,\n",
              "        kernel_size=(1, 1),\n",
              "        strides=2,\n",
              "        padding='SAME',\n",
              "        input_dilation=1,\n",
              "        kernel_dilation=1,\n",
              "        feature_group_count=1,\n",
              "        use_bias=True,\n",
              "        mask=None,\n",
              "        dtype=None,\n",
              "        param_dtype=<class 'jax.numpy.float32'>,\n",
              "        precision=None,\n",
              "        kernel_init=<function variance_scaling.<locals>.init at 0x7cca0431f0a0>,\n",
              "        bias_init=<function zeros at 0x7cca1fcff640>,\n",
              "        conv_general_dilated=<function conv_general_dilated at 0x7cca20538670>\n",
              "      )\n",
              "    ), ResBlock(\n",
              "      c0=Conv(\n",
              "        kernel_shape=(3, 3, 16, 16),\n",
              "        kernel=Param(\n",
              "          value=Array(shape=(3, 3, 16, 16), dtype=float32)\n",
              "        ),\n",
              "        bias=Param(\n",
              "          value=Array(shape=(16,), dtype=float32)\n",
              "        ),\n",
              "        in_features=16,\n",
              "        out_features=16,\n",
              "        kernel_size=(3, 3),\n",
              "        strides=1,\n",
              "        padding='SAME',\n",
              "        input_dilation=1,\n",
              "        kernel_dilation=1,\n",
              "        feature_group_count=1,\n",
              "        use_bias=True,\n",
              "        mask=None,\n",
              "        dtype=None,\n",
              "        param_dtype=<class 'jax.numpy.float32'>,\n",
              "        precision=None,\n",
              "        kernel_init=<function variance_scaling.<locals>.init at 0x7cca0431f0a0>,\n",
              "        bias_init=<function zeros at 0x7cca1fcff640>,\n",
              "        conv_general_dilated=<function conv_general_dilated at 0x7cca20538670>\n",
              "      ),\n",
              "      bn0=BatchNorm(\n",
              "        mean=BatchStat(\n",
              "          value=Array(shape=(16,), dtype=float32)\n",
              "        ),\n",
              "        var=BatchStat(\n",
              "          value=Array(shape=(16,), dtype=float32)\n",
              "        ),\n",
              "        scale=Param(\n",
              "          value=Array(shape=(16,), dtype=float32)\n",
              "        ),\n",
              "        bias=Param(\n",
              "          value=Array(shape=(16,), dtype=float32)\n",
              "        ),\n",
              "        num_features=16,\n",
              "        use_running_average=False,\n",
              "        axis=-1,\n",
              "        momentum=0.99,\n",
              "        epsilon=1e-05,\n",
              "        dtype=None,\n",
              "        param_dtype=<class 'jax.numpy.float32'>,\n",
              "        use_bias=True,\n",
              "        use_scale=True,\n",
              "        bias_init=<function zeros at 0x7cca1fcff640>,\n",
              "        scale_init=<function ones at 0x7cca1fcff7f0>,\n",
              "        axis_name=None,\n",
              "        axis_index_groups=None,\n",
              "        use_fast_variance=True\n",
              "      ),\n",
              "      c1=Conv(\n",
              "        kernel_shape=(3, 3, 16, 16),\n",
              "        kernel=Param(\n",
              "          value=Array(shape=(3, 3, 16, 16), dtype=float32)\n",
              "        ),\n",
              "        bias=Param(\n",
              "          value=Array(shape=(16,), dtype=float32)\n",
              "        ),\n",
              "        in_features=16,\n",
              "        out_features=16,\n",
              "        kernel_size=(3, 3),\n",
              "        strides=1,\n",
              "        padding='SAME',\n",
              "        input_dilation=1,\n",
              "        kernel_dilation=1,\n",
              "        feature_group_count=1,\n",
              "        use_bias=True,\n",
              "        mask=None,\n",
              "        dtype=None,\n",
              "        param_dtype=<class 'jax.numpy.float32'>,\n",
              "        precision=None,\n",
              "        kernel_init=<function variance_scaling.<locals>.init at 0x7cca0431f0a0>,\n",
              "        bias_init=<function zeros at 0x7cca1fcff640>,\n",
              "        conv_general_dilated=<function conv_general_dilated at 0x7cca20538670>\n",
              "      ),\n",
              "      bn1=BatchNorm(\n",
              "        mean=BatchStat(\n",
              "          value=Array(shape=(16,), dtype=float32)\n",
              "        ),\n",
              "        var=BatchStat(\n",
              "          value=Array(shape=(16,), dtype=float32)\n",
              "        ),\n",
              "        scale=Param(\n",
              "          value=Array(shape=(16,), dtype=float32)\n",
              "        ),\n",
              "        bias=Param(\n",
              "          value=Array(shape=(16,), dtype=float32)\n",
              "        ),\n",
              "        num_features=16,\n",
              "        use_running_average=False,\n",
              "        axis=-1,\n",
              "        momentum=0.99,\n",
              "        epsilon=1e-05,\n",
              "        dtype=None,\n",
              "        param_dtype=<class 'jax.numpy.float32'>,\n",
              "        use_bias=True,\n",
              "        use_scale=True,\n",
              "        bias_init=<function zeros at 0x7cca1fcff640>,\n",
              "        scale_init=<function ones at 0x7cca1fcff7f0>,\n",
              "        axis_name=None,\n",
              "        axis_index_groups=None,\n",
              "        use_fast_variance=True\n",
              "      ),\n",
              "      proj=<function ResBlock.__init__.<locals>.<lambda> at 0x7cc6664f2d40>\n",
              "    )]\n",
              "  ),\n",
              "  linear=Linear(\n",
              "    kernel=Param(\n",
              "      value=Array(shape=(16, 10), dtype=float32)\n",
              "    ),\n",
              "    bias=Param(\n",
              "      value=Array(shape=(10,), dtype=float32)\n",
              "    ),\n",
              "    in_features=16,\n",
              "    out_features=10,\n",
              "    use_bias=True,\n",
              "    dtype=None,\n",
              "    param_dtype=<class 'jax.numpy.float32'>,\n",
              "    precision=None,\n",
              "    kernel_init=<function variance_scaling.<locals>.init at 0x7cca0431f0a0>,\n",
              "    bias_init=<function zeros at 0x7cca1fcff640>,\n",
              "    dot_general=<function dot_general at 0x7cca204cc1f0>\n",
              "  )\n",
              ")"
            ]
          },
          "metadata": {},
          "execution_count": 111
        }
      ]
    },
    {
      "cell_type": "code",
      "source": [
        "# test to see if we can forward pass\n",
        "test_input = jnp.ones((32, 28, 28, 1))\n",
        "model.eval()\n",
        "model(test_input).shape"
      ],
      "metadata": {
        "colab": {
          "base_uri": "https://localhost:8080/"
        },
        "id": "91bOpSfde0Ne",
        "outputId": "3b9391ff-43e2-483c-e339-13f45e31af1a"
      },
      "execution_count": 112,
      "outputs": [
        {
          "output_type": "execute_result",
          "data": {
            "text/plain": [
              "(32, 10)"
            ]
          },
          "metadata": {},
          "execution_count": 112
        }
      ]
    },
    {
      "cell_type": "markdown",
      "source": [
        "## The Loss function and Optimizer\n",
        "\n",
        "Next define how good the model is at any given point and how we can nudge the parameters in the right direction. Then in the next section we can define the training loop!"
      ],
      "metadata": {
        "id": "gztzsvxGnR87"
      }
    },
    {
      "cell_type": "code",
      "source": [
        "def loss_fn(model, batch):\n",
        "  logits = model(batch[\"image\"])\n",
        "  loss = optax.softmax_cross_entropy_with_integer_labels(\n",
        "      logits=logits, labels=batch[\"label\"]\n",
        "  ).mean() # amazing flax/optax has funcs like this\n",
        "  return loss, logits\n",
        "\n",
        "loss_fn(model, test_ds.as_numpy_iterator().next())"
      ],
      "metadata": {
        "colab": {
          "base_uri": "https://localhost:8080/"
        },
        "id": "-TnAet-rnFc7",
        "outputId": "799fe1e5-3f12-4529-e461-628f5fa476bd"
      },
      "execution_count": 113,
      "outputs": [
        {
          "output_type": "execute_result",
          "data": {
            "text/plain": [
              "(Array(2.3545542, dtype=float32),\n",
              " Array([[-7.83639550e-02, -1.52498215e-01, -1.09752603e-01,\n",
              "          1.55495241e-01,  3.62128973e-01, -2.35585421e-02,\n",
              "         -3.31518352e-02, -3.59213114e-01,  3.12211037e-01,\n",
              "          1.47408485e-01],\n",
              "        [-1.05385028e-01,  6.79793060e-01,  9.94523168e-02,\n",
              "         -3.76832575e-01,  4.36656147e-01, -1.81870922e-01,\n",
              "         -1.52742550e-01, -9.44202393e-02,  2.93591321e-01,\n",
              "          1.65938795e-01],\n",
              "        [ 8.18592776e-03, -2.98929036e-01, -1.33143246e-01,\n",
              "          1.32814676e-01,  4.04781252e-01, -2.79285461e-02,\n",
              "          1.07533835e-01, -1.88655570e-01,  3.58140260e-01,\n",
              "         -5.71255572e-02],\n",
              "        [-1.38014024e-02,  4.64846730e-01,  3.42343524e-02,\n",
              "         -1.68041319e-01,  3.19588155e-01, -1.24998234e-01,\n",
              "         -2.44490758e-01, -1.94832146e-01,  2.09047213e-01,\n",
              "          2.63589531e-01],\n",
              "        [-1.58334002e-01, -2.77187347e-01, -8.59537050e-02,\n",
              "         -3.23529653e-02,  4.52704400e-01,  8.58217850e-02,\n",
              "          6.67616650e-02, -2.28944689e-01,  3.81173193e-01,\n",
              "         -3.88084687e-02],\n",
              "        [-1.65294454e-01, -2.85224944e-01, -9.50028002e-02,\n",
              "         -8.56721178e-02,  3.48661929e-01,  3.95292006e-02,\n",
              "          7.20931143e-02, -1.32495329e-01,  4.00417686e-01,\n",
              "         -2.55823493e-01],\n",
              "        [-2.01757140e-02,  3.97289842e-01,  1.17159577e-03,\n",
              "         -1.26924947e-01,  1.69902593e-01, -1.50456548e-01,\n",
              "         -1.37961820e-01, -4.40584719e-02,  8.43176842e-02,\n",
              "          5.74258901e-02],\n",
              "        [-6.91146404e-03,  2.99311936e-01, -4.47054729e-02,\n",
              "         -1.24653831e-01,  2.87345290e-01, -1.67059958e-01,\n",
              "         -3.31997834e-02, -1.07980885e-01,  2.27429986e-01,\n",
              "          1.66316450e-01],\n",
              "        [-1.95951685e-01, -8.20944428e-01, -2.05175683e-01,\n",
              "          2.38368586e-01,  3.40202093e-01,  1.26837287e-02,\n",
              "          1.90988168e-01, -3.99386913e-01,  5.52575767e-01,\n",
              "         -3.61794233e-01],\n",
              "        [-3.34170051e-02,  7.63476729e-01,  3.66612524e-02,\n",
              "         -1.89884201e-01,  2.84504235e-01, -1.69784233e-01,\n",
              "         -4.01584417e-01, -2.25985363e-01,  1.70688942e-01,\n",
              "          4.22085881e-01],\n",
              "        [-9.30127203e-02, -1.16117322e+00, -5.08147597e-01,\n",
              "          5.17067671e-01,  4.10302699e-01,  1.54644456e-02,\n",
              "          2.90097982e-01, -2.69143373e-01,  6.05404079e-01,\n",
              "         -3.22391540e-01],\n",
              "        [ 2.96864123e-03,  7.59632587e-01,  2.70068776e-02,\n",
              "         -4.59535182e-01,  4.31060821e-01, -1.52936801e-01,\n",
              "         -3.81409347e-01, -1.25571102e-01,  4.21671599e-01,\n",
              "          3.48177284e-01],\n",
              "        [-4.95397560e-02, -5.61866939e-01, -1.72419772e-01,\n",
              "          1.97600886e-01,  2.68461078e-01, -1.56735647e-02,\n",
              "          6.16464019e-02, -2.31396496e-01,  4.09178555e-01,\n",
              "         -1.52404353e-01],\n",
              "        [-9.27390233e-02, -7.71721452e-02, -1.92001835e-02,\n",
              "         -1.09259598e-01,  3.67334157e-01, -6.07127845e-02,\n",
              "          7.18470737e-02, -2.24684969e-01,  4.26198691e-01,\n",
              "         -1.27459496e-01],\n",
              "        [ 1.11352533e-01,  3.62241417e-01,  1.05894287e-03,\n",
              "         -1.69068322e-01,  9.71048847e-02, -7.90222287e-02,\n",
              "         -3.49056870e-01, -1.92895487e-01,  2.85426110e-01,\n",
              "          1.18268237e-01],\n",
              "        [-9.20346379e-02,  7.49086123e-03, -2.63905711e-02,\n",
              "         -1.64998502e-01,  3.20347309e-01,  1.02791108e-01,\n",
              "         -5.15349284e-02, -8.12316015e-02,  2.87018508e-01,\n",
              "         -7.08940849e-02],\n",
              "        [-1.83240119e-02, -9.68800962e-01, -3.45554799e-01,\n",
              "          4.84034747e-01,  2.35926181e-01, -1.30046576e-01,\n",
              "          3.44668210e-01, -1.83924541e-01,  3.67092609e-01,\n",
              "         -3.56952459e-01],\n",
              "        [ 3.57193090e-02,  8.22013795e-01, -5.09261675e-02,\n",
              "         -1.79009408e-01,  4.92887884e-01, -1.76964790e-01,\n",
              "         -3.40469629e-01, -2.41522372e-01,  2.79322892e-01,\n",
              "          5.06583273e-01],\n",
              "        [ 1.48683891e-01, -2.28009582e-01, -2.10221499e-01,\n",
              "          2.12432623e-01,  3.40008408e-01, -1.10773720e-01,\n",
              "          6.04303703e-02, -2.69931912e-01,  4.99373615e-01,\n",
              "          5.21067753e-02],\n",
              "        [ 5.20643145e-02, -1.49204671e-01, -1.13409922e-01,\n",
              "         -9.71441269e-02,  3.43302310e-01,  3.97820882e-02,\n",
              "         -2.72386000e-02, -2.84672827e-01,  5.33588529e-01,\n",
              "         -2.79445015e-02],\n",
              "        [ 1.02060303e-01,  1.92100197e-01,  2.04509124e-03,\n",
              "         -1.11234188e-01,  1.31504998e-01, -8.30417052e-02,\n",
              "         -1.92796797e-01, -9.81587991e-02,  2.20258683e-01,\n",
              "          4.87951785e-02],\n",
              "        [-1.10721327e-01,  7.13220060e-01,  1.73327163e-01,\n",
              "         -3.85636657e-01,  5.01127362e-01, -1.52116008e-02,\n",
              "         -4.18502867e-01, -2.96550781e-01,  2.82751054e-01,\n",
              "          3.83939177e-01],\n",
              "        [-1.59382865e-01,  6.41367853e-01,  8.18131268e-02,\n",
              "         -5.26595891e-01,  7.47818470e-01, -7.31850639e-02,\n",
              "         -1.33563206e-01, -2.80328602e-01,  6.18749559e-01,\n",
              "          1.79210335e-01],\n",
              "        [-7.44098574e-02,  5.14023244e-01,  4.46558408e-02,\n",
              "         -4.15311366e-01,  4.83307004e-01, -5.22467680e-02,\n",
              "         -1.72822401e-01, -1.78938955e-01,  3.60203177e-01,\n",
              "          1.82833925e-01],\n",
              "        [ 3.73857506e-02,  5.61685562e-01, -2.74795573e-02,\n",
              "         -2.90494978e-01,  2.49698743e-01, -6.72755688e-02,\n",
              "         -3.24502051e-01, -8.45473707e-02,  2.75795549e-01,\n",
              "          2.84207165e-01],\n",
              "        [-6.21319748e-02,  7.06644237e-01,  8.20080340e-02,\n",
              "         -5.43389857e-01,  4.47784692e-01, -5.98806553e-02,\n",
              "         -2.78863311e-01,  1.39456987e-02,  2.87616014e-01,\n",
              "          2.60658264e-01],\n",
              "        [-9.04577300e-02, -1.13024056e+00, -5.20845473e-01,\n",
              "          6.46705270e-01,  2.94086337e-01, -1.03384271e-01,\n",
              "          4.31972086e-01, -1.13963790e-01,  3.22475314e-01,\n",
              "         -3.95284384e-01],\n",
              "        [-7.98481703e-02,  3.97650808e-01, -7.95817003e-03,\n",
              "         -3.77717555e-01,  3.85105729e-01, -4.66920845e-02,\n",
              "         -1.41652599e-01, -1.74807645e-02,  3.08542639e-01,\n",
              "          1.32867843e-01],\n",
              "        [-1.59645423e-01, -7.11309671e-01, -2.20189571e-01,\n",
              "          2.69903719e-01,  3.72992724e-01,  2.31743008e-02,\n",
              "          2.16523215e-01, -2.22345442e-01,  3.33326310e-01,\n",
              "         -1.91944093e-01],\n",
              "        [-2.38008471e-03, -1.42556697e-01, -5.80740795e-02,\n",
              "         -1.33646391e-02,  2.97128350e-01,  1.94521975e-02,\n",
              "         -8.81771743e-03, -1.42383605e-01,  3.66991013e-01,\n",
              "         -3.34547572e-02],\n",
              "        [-5.27537465e-02, -1.74557939e-01, -1.49752393e-01,\n",
              "          2.47856462e-03,  1.99261889e-01, -2.21539661e-02,\n",
              "          5.49336709e-02, -3.81541848e-02,  1.99447647e-01,\n",
              "         -1.27901733e-01],\n",
              "        [ 7.23367557e-02, -1.09929763e-01, -1.19852170e-01,\n",
              "         -5.48145957e-02,  2.61053473e-01,  1.48907490e-03,\n",
              "          9.07860138e-03, -7.86543861e-02,  3.20360690e-01,\n",
              "         -4.73544635e-02],\n",
              "        [-3.11793834e-01, -6.68139100e-01, -1.61247984e-01,\n",
              "          1.77093342e-01,  5.46197653e-01, -9.77716893e-02,\n",
              "          3.20440233e-01, -3.89890552e-01,  5.94488740e-01,\n",
              "         -3.33179116e-01],\n",
              "        [-1.52627558e-01, -4.48156208e-01, -1.44319057e-01,\n",
              "          1.22096881e-01,  2.34097362e-01,  7.82004446e-02,\n",
              "          1.01162836e-01, -1.49780616e-01,  2.14668557e-01,\n",
              "         -1.67029291e-01],\n",
              "        [-2.96666056e-01, -6.82699680e-01, -1.68507084e-01,\n",
              "          2.23862946e-01,  3.88075471e-01,  2.60138307e-02,\n",
              "          2.61764318e-01, -2.60589898e-01,  3.76096457e-01,\n",
              "         -2.89352268e-01],\n",
              "        [-3.12187411e-02, -1.13572113e-01, -3.82579565e-02,\n",
              "         -9.68620926e-02,  3.68520468e-01,  1.06298320e-01,\n",
              "         -8.21658894e-02, -1.30905196e-01,  3.63547504e-01,\n",
              "          9.19954292e-03],\n",
              "        [-1.80793315e-01, -7.09355652e-01, -2.36165151e-01,\n",
              "          3.70338827e-01,  1.76159248e-01, -9.41965636e-03,\n",
              "          1.57952085e-01, -2.09350556e-01,  1.82208747e-01,\n",
              "         -2.20323205e-01],\n",
              "        [-7.43146762e-02, -1.12052393e+00, -4.14340973e-01,\n",
              "          5.58913827e-01,  3.19395095e-01, -1.95109084e-01,\n",
              "          4.96723861e-01, -1.61211208e-01,  4.01768535e-01,\n",
              "         -4.75751877e-01],\n",
              "        [ 6.78741606e-03, -3.67008567e-01, -2.51559436e-01,\n",
              "          2.77799547e-01,  2.57652640e-01, -7.34099001e-02,\n",
              "          1.07283928e-01, -2.92570829e-01,  3.52017283e-01,\n",
              "         -4.10854407e-02],\n",
              "        [-3.99021991e-02,  4.26359832e-01,  1.83149055e-02,\n",
              "         -1.88896433e-01,  4.60055977e-01, -1.58573672e-01,\n",
              "         -2.55149081e-02, -2.10567608e-01,  3.17847759e-01,\n",
              "          1.80536360e-01],\n",
              "        [ 9.59436595e-02,  8.53908598e-01, -5.11598401e-02,\n",
              "         -2.31134102e-01,  5.43461859e-01, -2.74188221e-01,\n",
              "         -2.79663950e-01, -3.56627375e-01,  4.66639221e-01,\n",
              "          4.03091401e-01],\n",
              "        [-1.24021485e-01,  8.13014150e-01,  1.60335213e-01,\n",
              "         -3.29338759e-01,  4.07364726e-01, -1.60530776e-01,\n",
              "         -3.41843396e-01, -2.16510549e-01,  1.23882391e-01,\n",
              "          3.73657107e-01],\n",
              "        [-9.00597721e-02,  5.35725057e-01,  1.34156197e-01,\n",
              "         -3.42704684e-01,  5.76725304e-01, -4.29661162e-02,\n",
              "         -2.05740556e-01, -2.81859487e-01,  4.01432008e-01,\n",
              "          2.75062114e-01],\n",
              "        [-7.89563954e-02,  7.37777650e-02, -1.14623658e-01,\n",
              "         -1.49459355e-02,  3.28972578e-01, -8.99038091e-02,\n",
              "         -3.86831276e-02, -1.59014910e-01,  2.91163981e-01,\n",
              "          1.29333273e-01],\n",
              "        [-7.66968578e-02, -3.83346289e-01, -1.52908638e-01,\n",
              "         -1.76897179e-02,  4.81238365e-01,  6.95316494e-02,\n",
              "          9.88775864e-02, -1.87452003e-01,  5.11448503e-01,\n",
              "         -1.50406092e-01],\n",
              "        [ 3.31498939e-03,  5.19917607e-01, -9.04581044e-03,\n",
              "         -2.99575478e-01,  3.60715568e-01, -6.57813251e-02,\n",
              "         -2.66209990e-01, -1.46666959e-01,  3.51655126e-01,\n",
              "          3.50105405e-01],\n",
              "        [-1.62172198e-01,  4.32008244e-02,  5.74884377e-03,\n",
              "         -2.09700927e-01,  4.64355975e-01, -1.44503303e-02,\n",
              "          2.69930307e-02, -2.48258665e-01,  4.44717735e-01,\n",
              "         -8.25239643e-02],\n",
              "        [-5.94996028e-02,  6.49580002e-01,  5.22535071e-02,\n",
              "         -3.14815164e-01,  4.12497610e-01, -9.52557474e-02,\n",
              "         -2.35657692e-01, -1.09750509e-01,  2.27985948e-01,\n",
              "          1.99709907e-01],\n",
              "        [-1.86669007e-01, -1.20265973e+00, -3.68056148e-01,\n",
              "          4.58246648e-01,  4.14014667e-01, -2.26283874e-02,\n",
              "          3.72923940e-01, -3.52022231e-01,  6.07658148e-01,\n",
              "         -4.62074369e-01],\n",
              "        [-1.30333379e-01,  6.21414781e-01,  5.32301217e-02,\n",
              "         -2.57606715e-01,  3.44508916e-01, -6.35280833e-02,\n",
              "         -2.95236826e-01, -2.15514511e-01,  1.79000497e-01,\n",
              "          2.94062316e-01],\n",
              "        [-2.46961005e-02,  6.63343966e-01,  4.95813154e-02,\n",
              "         -5.30957401e-01,  5.74965060e-01,  3.48255262e-02,\n",
              "         -3.69324297e-01, -2.71326184e-01,  4.97482419e-01,\n",
              "          2.89941043e-01],\n",
              "        [-1.28620893e-01, -4.82028097e-01, -1.37834370e-01,\n",
              "          1.49247870e-01,  3.38064343e-01, -4.63569053e-02,\n",
              "          1.47619814e-01, -2.87406802e-01,  4.39323395e-01,\n",
              "         -1.96273044e-01],\n",
              "        [-4.88117337e-02, -3.98636967e-01, -1.40757889e-01,\n",
              "          1.30060509e-01,  3.04162323e-01, -7.12206364e-02,\n",
              "          1.57792106e-01, -2.00671583e-01,  3.72414708e-01,\n",
              "         -1.49219826e-01],\n",
              "        [-7.21892044e-02, -4.16348696e-01, -1.53159261e-01,\n",
              "          9.61815342e-02,  2.30936050e-01,  4.96675037e-02,\n",
              "          6.12415224e-02, -6.18814938e-02,  2.49580637e-01,\n",
              "         -2.14049280e-01],\n",
              "        [-3.84894945e-02,  3.86208892e-02, -5.56449033e-02,\n",
              "         -2.07925081e-01,  3.14220876e-01,  5.45516908e-02,\n",
              "         -1.15967929e-01, -1.14448212e-01,  3.89401317e-01,\n",
              "         -1.11359442e-02],\n",
              "        [-3.10226440e-01,  1.32710814e+00,  2.76795059e-01,\n",
              "         -9.45038378e-01,  8.47717285e-01,  1.15379959e-01,\n",
              "         -6.49193347e-01, -2.23712340e-01,  4.78188843e-01,\n",
              "          5.00651538e-01],\n",
              "        [ 2.21582521e-02, -1.22461524e-02, -6.04386553e-02,\n",
              "         -3.97589281e-02,  2.25644842e-01, -1.05105929e-01,\n",
              "          1.19287306e-02, -2.03378201e-01,  2.59468436e-01,\n",
              "          1.32079830e-03],\n",
              "        [-2.36309573e-01, -1.25200248e+00, -4.63340074e-01,\n",
              "          7.19983876e-01,  3.88246059e-01, -2.71279097e-01,\n",
              "          7.12070048e-01, -1.53022483e-01,  3.68860841e-01,\n",
              "         -6.38973415e-01],\n",
              "        [ 7.94877708e-02, -6.37894869e-01, -3.74216825e-01,\n",
              "          2.75063485e-01,  2.80628443e-01, -1.13867551e-01,\n",
              "          2.88778216e-01, -2.73223519e-02,  4.32183295e-01,\n",
              "         -3.38422745e-01],\n",
              "        [-1.50732592e-01,  9.95599389e-01,  1.62016690e-01,\n",
              "         -6.07529819e-01,  7.07959116e-01, -7.59126917e-02,\n",
              "         -3.59391421e-01, -1.59062788e-01,  4.76498455e-01,\n",
              "          3.87810558e-01],\n",
              "        [-2.56772637e-02,  6.02221727e-01,  6.79567233e-02,\n",
              "         -4.16547328e-01,  5.49830377e-01,  1.05904862e-02,\n",
              "         -2.61089653e-01, -2.21148878e-01,  4.55787718e-01,\n",
              "          2.48021379e-01],\n",
              "        [-1.52109936e-02, -2.50702679e-01, -1.39014721e-01,\n",
              "         -1.09286390e-01,  3.93247426e-01,  1.40651748e-01,\n",
              "         -1.36963025e-01, -1.76402509e-01,  5.01568317e-01,\n",
              "         -4.82717454e-02],\n",
              "        [-2.73910407e-02,  2.53897786e-01,  5.98159134e-02,\n",
              "         -2.65564889e-01,  3.74372274e-01,  2.64689606e-02,\n",
              "         -2.46084481e-01, -2.35799327e-01,  2.89089113e-01,\n",
              "          1.55225724e-01],\n",
              "        [ 7.58366100e-03,  1.95787996e-02, -9.21191722e-02,\n",
              "         -1.36743262e-01,  2.78577179e-01,  1.45292684e-01,\n",
              "         -3.22832614e-01, -2.61897922e-01,  4.25616860e-01,\n",
              "          1.52875632e-01]], dtype=float32))"
            ]
          },
          "metadata": {},
          "execution_count": 113
        }
      ]
    },
    {
      "cell_type": "code",
      "source": [
        "learning_rate = 0.005\n",
        "momentum = 0.9\n",
        "\n",
        "optimizer = nnx.Optimizer(model, optax.adamw(learning_rate, momentum))\n",
        "metrics = nnx.MultiMetric(\n",
        "  accuracy=nnx.metrics.Accuracy(),\n",
        "  loss=nnx.metrics.Average('loss'),\n",
        ")"
      ],
      "metadata": {
        "id": "ROCqgQpaw8ug"
      },
      "execution_count": 114,
      "outputs": []
    },
    {
      "cell_type": "code",
      "source": [
        "@nnx.jit\n",
        "def train_step(model, opt, metrics, batch):\n",
        "  grad_fn = nnx.value_and_grad(loss_fn, has_aux=True)\n",
        "  (loss, logits), grads = grad_fn(model, batch)\n",
        "  metrics.update(loss=loss, logits=logits, labels=batch['label'])\n",
        "  opt.update(grads)\n",
        "\n",
        "@nnx.jit\n",
        "def eval_step(model, metrics, batch):\n",
        "  model.eval()\n",
        "  loss, logits = loss_fn(model, batch)\n",
        "  metrics.update(loss=loss, logits=logits, labels=batch['label'])\n",
        "  model.train()\n"
      ],
      "metadata": {
        "id": "GDjwfJJhvU0X"
      },
      "execution_count": 115,
      "outputs": []
    },
    {
      "cell_type": "code",
      "source": [
        "from tqdm import tqdm\n",
        "\n",
        "def log_metrics(history, metrics, step):\n",
        "  # log train metrics\n",
        "  for metric, v in metrics.compute().items():\n",
        "    history[f\"train_{metric}\"].append(v)\n",
        "  metrics.reset()\n",
        "\n",
        "  # log the test metrics\n",
        "  for test_batch in test_ds.as_numpy_iterator():\n",
        "    eval_step(model, metrics, test_batch)\n",
        "  for metric, value in metrics.compute().items():\n",
        "    history[f\"test_{metric}\"].append(value)\n",
        "  metrics.reset()\n",
        "\n",
        "  print_log = lambda l: print(f\"[{l}:{step}]\", \"loss\", history[f\"{l}_loss\"][-1], \"accuracy\", history[f\"{l}_accuracy\"][-1]*100, \"%\")\n",
        "  print_log(\"train\")\n",
        "  print_log(\"test\")\n",
        "\n",
        "history = {\n",
        "    \"test_loss\": [],\n",
        "    \"train_loss\": [],\n",
        "    \"test_accuracy\": [],\n",
        "    \"train_accuracy\": []\n",
        "}\n",
        "\n",
        "for i in range(5):\n",
        "  model.train()\n",
        "  for step, batch in tqdm(enumerate(train_ds.as_numpy_iterator()), total=train_steps):\n",
        "    train_step(model, optimizer, metrics, batch)\n",
        "    if step % eval_every == 0 and step > 0: # log every 200 after the first 200 steps\n",
        "      log_metrics(history, metrics, step)"
      ],
      "metadata": {
        "id": "JVmxT7pQw-0w",
        "outputId": "3156bd4d-51bb-40c7-cef2-ebac222d0295",
        "colab": {
          "base_uri": "https://localhost:8080/"
        }
      },
      "execution_count": 116,
      "outputs": [
        {
          "output_type": "stream",
          "name": "stderr",
          "text": [
            " 25%|██▌       | 505/2000 [00:41<11:29,  2.17it/s]"
          ]
        },
        {
          "output_type": "stream",
          "name": "stdout",
          "text": [
            "[train:500] loss 0.48059112 accuracy 84.72118 %\n",
            "[test:500] loss 1.0369031 accuracy 69.57132 %\n"
          ]
        },
        {
          "output_type": "stream",
          "name": "stderr",
          "text": [
            " 50%|█████     | 1005/2000 [01:14<06:42,  2.47it/s]"
          ]
        },
        {
          "output_type": "stream",
          "name": "stdout",
          "text": [
            "[train:1000] loss 0.1457573 accuracy 95.47813 %\n",
            "[test:1000] loss 0.70721555 accuracy 76.96314 %\n"
          ]
        },
        {
          "output_type": "stream",
          "name": "stderr",
          "text": [
            " 75%|███████▌  | 1504/2000 [01:49<04:29,  1.84it/s]"
          ]
        },
        {
          "output_type": "stream",
          "name": "stdout",
          "text": [
            "[train:1500] loss 0.10831303 accuracy 96.537506 %\n",
            "[test:1500] loss 0.110031046 accuracy 96.474365 %\n"
          ]
        },
        {
          "output_type": "stream",
          "name": "stderr",
          "text": [
            "100%|██████████| 2000/2000 [02:18<00:00, 14.47it/s]\n",
            " 25%|██▌       | 505/2000 [00:39<19:02,  1.31it/s]"
          ]
        },
        {
          "output_type": "stream",
          "name": "stdout",
          "text": [
            "[train:500] loss 0.0891559 accuracy 97.14688 %\n",
            "[test:500] loss 0.07917992 accuracy 97.28566 %\n"
          ]
        },
        {
          "output_type": "stream",
          "name": "stderr",
          "text": [
            " 50%|█████     | 1005/2000 [01:12<06:49,  2.43it/s]"
          ]
        },
        {
          "output_type": "stream",
          "name": "stdout",
          "text": [
            "[train:1000] loss 0.07967629 accuracy 97.412506 %\n",
            "[test:1000] loss 0.08573564 accuracy 96.955124 %\n"
          ]
        },
        {
          "output_type": "stream",
          "name": "stderr",
          "text": [
            " 75%|███████▌  | 1503/2000 [01:46<03:48,  2.17it/s]"
          ]
        },
        {
          "output_type": "stream",
          "name": "stdout",
          "text": [
            "[train:1500] loss 0.07084329 accuracy 97.77501 %\n",
            "[test:1500] loss 0.12478244 accuracy 95.95352 %\n"
          ]
        },
        {
          "output_type": "stream",
          "name": "stderr",
          "text": [
            "100%|██████████| 2000/2000 [02:17<00:00, 14.57it/s]\n",
            " 25%|██▌       | 502/2000 [00:40<35:00,  1.40s/it]"
          ]
        },
        {
          "output_type": "stream",
          "name": "stdout",
          "text": [
            "[train:500] loss 0.066258356 accuracy 97.876564 %\n",
            "[test:500] loss 0.05902969 accuracy 98.086945 %\n"
          ]
        },
        {
          "output_type": "stream",
          "name": "stderr",
          "text": [
            " 50%|█████     | 1005/2000 [01:17<08:47,  1.89it/s]"
          ]
        },
        {
          "output_type": "stream",
          "name": "stdout",
          "text": [
            "[train:1000] loss 0.062339358 accuracy 98.05626 %\n",
            "[test:1000] loss 0.08826257 accuracy 97.00521 %\n"
          ]
        },
        {
          "output_type": "stream",
          "name": "stderr",
          "text": [
            " 75%|███████▌  | 1505/2000 [01:53<04:02,  2.04it/s]"
          ]
        },
        {
          "output_type": "stream",
          "name": "stdout",
          "text": [
            "[train:1500] loss 0.058872826 accuracy 98.12188 %\n",
            "[test:1500] loss 0.07832749 accuracy 97.66627 %\n"
          ]
        },
        {
          "output_type": "stream",
          "name": "stderr",
          "text": [
            "100%|██████████| 2000/2000 [02:23<00:00, 13.97it/s]\n",
            " 25%|██▌       | 504/2000 [00:38<11:31,  2.16it/s]"
          ]
        },
        {
          "output_type": "stream",
          "name": "stdout",
          "text": [
            "[train:500] loss 0.052679364 accuracy 98.33125 %\n",
            "[test:500] loss 0.06263829 accuracy 97.89664 %\n"
          ]
        },
        {
          "output_type": "stream",
          "name": "stderr",
          "text": [
            " 50%|█████     | 1003/2000 [01:18<17:33,  1.06s/it]"
          ]
        },
        {
          "output_type": "stream",
          "name": "stdout",
          "text": [
            "[train:1000] loss 0.055229805 accuracy 98.22188 %\n",
            "[test:1000] loss 0.056178655 accuracy 98.277245 %\n"
          ]
        },
        {
          "output_type": "stream",
          "name": "stderr",
          "text": [
            " 75%|███████▌  | 1504/2000 [01:55<03:24,  2.43it/s]"
          ]
        },
        {
          "output_type": "stream",
          "name": "stdout",
          "text": [
            "[train:1500] loss 0.047760796 accuracy 98.39688 %\n",
            "[test:1500] loss 0.06639458 accuracy 97.92668 %\n"
          ]
        },
        {
          "output_type": "stream",
          "name": "stderr",
          "text": [
            "100%|██████████| 2000/2000 [02:25<00:00, 13.78it/s]\n",
            " 25%|██▌       | 505/2000 [00:37<10:54,  2.29it/s]"
          ]
        },
        {
          "output_type": "stream",
          "name": "stdout",
          "text": [
            "[train:500] loss 0.047911007 accuracy 98.45157 %\n",
            "[test:500] loss 0.05455035 accuracy 98.33734 %\n"
          ]
        },
        {
          "output_type": "stream",
          "name": "stderr",
          "text": [
            " 50%|█████     | 1003/2000 [01:13<09:24,  1.76it/s]"
          ]
        },
        {
          "output_type": "stream",
          "name": "stdout",
          "text": [
            "[train:1000] loss 0.043251477 accuracy 98.54688 %\n",
            "[test:1000] loss 0.065732926 accuracy 97.91667 %\n"
          ]
        },
        {
          "output_type": "stream",
          "name": "stderr",
          "text": [
            " 75%|███████▌  | 1502/2000 [01:49<06:47,  1.22it/s]"
          ]
        },
        {
          "output_type": "stream",
          "name": "stdout",
          "text": [
            "[train:1500] loss 0.044592287 accuracy 98.53438 %\n",
            "[test:1500] loss 0.05299938 accuracy 98.407455 %\n"
          ]
        },
        {
          "output_type": "stream",
          "name": "stderr",
          "text": [
            "100%|██████████| 2000/2000 [02:22<00:00, 14.04it/s]\n"
          ]
        }
      ]
    },
    {
      "cell_type": "code",
      "source": [
        "def plot_metrics(history, metric=\"loss\"):\n",
        "  plt.title(metric)\n",
        "  plt.plot(history[f\"test_{metric}\"], label=\"test\")\n",
        "  plt.plot(history[f\"train_{metric}\"], label=\"train\")\n",
        "  plt.legend()\n",
        "\n",
        "plot_metrics(history, \"accuracy\")\n",
        "plt.show()\n",
        "plot_metrics(history, \"loss\")"
      ],
      "metadata": {
        "id": "BQkzKHlrzy9x",
        "outputId": "ef4c3ba9-3c1c-44e0-a43e-e0de6782b343",
        "colab": {
          "base_uri": "https://localhost:8080/",
          "height": 887
        }
      },
      "execution_count": 117,
      "outputs": [
        {
          "output_type": "display_data",
          "data": {
            "text/plain": [
              "<Figure size 640x480 with 1 Axes>"
            ],
            "image/png": "[encoded data removed]"
          },
          "metadata": {}
        },
        {
          "output_type": "display_data",
          "data": {
            "text/plain": [
              "<Figure size 640x480 with 1 Axes>"
            ],
            "image/png": "[encoded data removed]"
          },
          "metadata": {}
        }
      ]
    },
    {
      "cell_type": "code",
      "source": [
        "for i in range(3):\n",
        "  model.train()\n",
        "  for step, batch in tqdm(enumerate(train_ds.as_numpy_iterator()), total=train_steps):\n",
        "    train_step(model, optimizer, metrics, batch)\n",
        "    if step % eval_every == 0 and step > 0:\n",
        "      log_metrics(history, metrics, step)"
      ],
      "metadata": {
        "id": "9FgeAZNn9cGv",
        "outputId": "fee60502-6272-430e-874c-b11915ec9660",
        "colab": {
          "base_uri": "https://localhost:8080/"
        }
      },
      "execution_count": 118,
      "outputs": [
        {
          "output_type": "stream",
          "name": "stderr",
          "text": [
            " 25%|██▌       | 503/2000 [00:37<15:58,  1.56it/s]"
          ]
        },
        {
          "output_type": "stream",
          "name": "stdout",
          "text": [
            "[train:500] loss 0.040711563 accuracy 98.64688 %\n",
            "[test:500] loss 0.06974897 accuracy 97.75641 %\n"
          ]
        },
        {
          "output_type": "stream",
          "name": "stderr",
          "text": [
            " 50%|█████     | 1004/2000 [01:13<08:32,  1.94it/s]"
          ]
        },
        {
          "output_type": "stream",
          "name": "stdout",
          "text": [
            "[train:1000] loss 0.040662244 accuracy 98.631256 %\n",
            "[test:1000] loss 0.13461968 accuracy 95.82332 %\n"
          ]
        },
        {
          "output_type": "stream",
          "name": "stderr",
          "text": [
            " 75%|███████▌  | 1503/2000 [01:50<04:14,  1.95it/s]"
          ]
        },
        {
          "output_type": "stream",
          "name": "stdout",
          "text": [
            "[train:1500] loss 0.041098278 accuracy 98.59375 %\n",
            "[test:1500] loss 0.05558703 accuracy 98.38742 %\n"
          ]
        },
        {
          "output_type": "stream",
          "name": "stderr",
          "text": [
            "100%|██████████| 2000/2000 [02:21<00:00, 14.12it/s]\n",
            " 25%|██▌       | 503/2000 [00:36<15:59,  1.56it/s]"
          ]
        },
        {
          "output_type": "stream",
          "name": "stdout",
          "text": [
            "[train:500] loss 0.037071787 accuracy 98.75938 %\n",
            "[test:500] loss 0.053601686 accuracy 98.467545 %\n"
          ]
        },
        {
          "output_type": "stream",
          "name": "stderr",
          "text": [
            " 50%|█████     | 1003/2000 [01:11<07:18,  2.28it/s]"
          ]
        },
        {
          "output_type": "stream",
          "name": "stdout",
          "text": [
            "[train:1000] loss 0.035709042 accuracy 98.79063 %\n",
            "[test:1000] loss 0.062168594 accuracy 98.036865 %\n"
          ]
        },
        {
          "output_type": "stream",
          "name": "stderr",
          "text": [
            " 75%|███████▌  | 1505/2000 [01:46<02:57,  2.78it/s]"
          ]
        },
        {
          "output_type": "stream",
          "name": "stdout",
          "text": [
            "[train:1500] loss 0.03646947 accuracy 98.8125 %\n",
            "[test:1500] loss 0.061934367 accuracy 98.3073 %\n"
          ]
        },
        {
          "output_type": "stream",
          "name": "stderr",
          "text": [
            "100%|██████████| 2000/2000 [02:19<00:00, 14.34it/s]\n",
            " 25%|██▌       | 503/2000 [00:38<14:40,  1.70it/s]"
          ]
        },
        {
          "output_type": "stream",
          "name": "stdout",
          "text": [
            "[train:500] loss 0.03217848 accuracy 98.921875 %\n",
            "[test:500] loss 0.08667254 accuracy 97.61619 %\n"
          ]
        },
        {
          "output_type": "stream",
          "name": "stderr",
          "text": [
            " 50%|█████     | 1003/2000 [01:14<09:44,  1.71it/s]"
          ]
        },
        {
          "output_type": "stream",
          "name": "stdout",
          "text": [
            "[train:1000] loss 0.034137957 accuracy 98.85313 %\n",
            "[test:1000] loss 0.091182426 accuracy 97.395836 %\n"
          ]
        },
        {
          "output_type": "stream",
          "name": "stderr",
          "text": [
            " 75%|███████▌  | 1504/2000 [01:50<03:35,  2.30it/s]"
          ]
        },
        {
          "output_type": "stream",
          "name": "stdout",
          "text": [
            "[train:1500] loss 0.03442816 accuracy 98.77188 %\n",
            "[test:1500] loss 0.065724775 accuracy 97.91667 %\n"
          ]
        },
        {
          "output_type": "stream",
          "name": "stderr",
          "text": [
            "100%|██████████| 2000/2000 [02:21<00:00, 14.08it/s]\n"
          ]
        }
      ]
    },
    {
      "cell_type": "code",
      "source": [
        "plot_metrics(history, \"accuracy\")\n",
        "plt.show()\n",
        "plot_metrics(history, \"loss\")"
      ],
      "metadata": {
        "id": "4dGuOj94Bmvo",
        "outputId": "48fcd172-295c-4571-adf4-b8eff9d30438",
        "colab": {
          "base_uri": "https://localhost:8080/",
          "height": 887
        }
      },
      "execution_count": 119,
      "outputs": [
        {
          "output_type": "display_data",
          "data": {
            "text/plain": [
              "<Figure size 640x480 with 1 Axes>"
            ],
            "image/png": "[encoded data removed]"
          },
          "metadata": {}
        },
        {
          "output_type": "display_data",
          "data": {
            "text/plain": [
              "<Figure size 640x480 with 1 Axes>"
            ],
            "image/png": "[encoded data removed]"
          },
          "metadata": {}
        }
      ]
    },
    {
      "cell_type": "code",
      "source": [
        "learning_rate = 0.005/10\n",
        "momentum = 0.9\n",
        "\n",
        "optimizer = nnx.Optimizer(model, optax.adamw(learning_rate, momentum))\n",
        "\n",
        "for i in range(3):\n",
        "  model.train()\n",
        "  for step, batch in tqdm(enumerate(train_ds.as_numpy_iterator()), total=train_steps):\n",
        "    train_step(model, optimizer, metrics, batch)\n",
        "    if step % eval_every == 0 and step > 0:\n",
        "      log_metrics(history, metrics, step)"
      ],
      "metadata": {
        "id": "eL845iUsDSCi",
        "outputId": "7185dc95-7e04-402a-a562-5d236d467aef",
        "colab": {
          "base_uri": "https://localhost:8080/"
        }
      },
      "execution_count": 120,
      "outputs": [
        {
          "output_type": "stream",
          "name": "stderr",
          "text": [
            " 25%|██▌       | 503/2000 [00:49<24:56,  1.00it/s]"
          ]
        },
        {
          "output_type": "stream",
          "name": "stdout",
          "text": [
            "[train:500] loss 0.025053792 accuracy 99.1422 %\n",
            "[test:500] loss 0.040549375 accuracy 98.78806 %\n"
          ]
        },
        {
          "output_type": "stream",
          "name": "stderr",
          "text": [
            " 50%|█████     | 1002/2000 [01:26<13:13,  1.26it/s]"
          ]
        },
        {
          "output_type": "stream",
          "name": "stdout",
          "text": [
            "[train:1000] loss 0.014353354 accuracy 99.55 %\n",
            "[test:1000] loss 0.03846422 accuracy 98.92828 %\n"
          ]
        },
        {
          "output_type": "stream",
          "name": "stderr",
          "text": [
            " 75%|███████▌  | 1504/2000 [02:06<06:38,  1.24it/s]"
          ]
        },
        {
          "output_type": "stream",
          "name": "stdout",
          "text": [
            "[train:1500] loss 0.014568207 accuracy 99.53126 %\n",
            "[test:1500] loss 0.039083645 accuracy 98.88822 %\n"
          ]
        },
        {
          "output_type": "stream",
          "name": "stderr",
          "text": [
            "100%|██████████| 2000/2000 [02:40<00:00, 12.49it/s]\n",
            " 25%|██▌       | 502/2000 [00:37<18:38,  1.34it/s]"
          ]
        },
        {
          "output_type": "stream",
          "name": "stdout",
          "text": [
            "[train:500] loss 0.01113944 accuracy 99.65626 %\n",
            "[test:500] loss 0.040708132 accuracy 98.84816 %\n"
          ]
        },
        {
          "output_type": "stream",
          "name": "stderr",
          "text": [
            " 50%|█████     | 1003/2000 [01:13<09:08,  1.82it/s]"
          ]
        },
        {
          "output_type": "stream",
          "name": "stdout",
          "text": [
            "[train:1000] loss 0.010747976 accuracy 99.66563 %\n",
            "[test:1000] loss 0.037741248 accuracy 98.958336 %\n"
          ]
        },
        {
          "output_type": "stream",
          "name": "stderr",
          "text": [
            " 75%|███████▌  | 1505/2000 [01:55<07:38,  1.08it/s]"
          ]
        },
        {
          "output_type": "stream",
          "name": "stdout",
          "text": [
            "[train:1500] loss 0.011154627 accuracy 99.625 %\n",
            "[test:1500] loss 0.039982535 accuracy 98.88822 %\n"
          ]
        },
        {
          "output_type": "stream",
          "name": "stderr",
          "text": [
            "100%|██████████| 2000/2000 [02:26<00:00, 13.63it/s]\n",
            " 25%|██▌       | 503/2000 [00:34<14:11,  1.76it/s]"
          ]
        },
        {
          "output_type": "stream",
          "name": "stdout",
          "text": [
            "[train:500] loss 0.009402739 accuracy 99.72188 %\n",
            "[test:500] loss 0.040164128 accuracy 98.85817 %\n"
          ]
        },
        {
          "output_type": "stream",
          "name": "stderr",
          "text": [
            " 50%|█████     | 1003/2000 [01:11<09:38,  1.72it/s]"
          ]
        },
        {
          "output_type": "stream",
          "name": "stdout",
          "text": [
            "[train:1000] loss 0.009608528 accuracy 99.725 %\n",
            "[test:1000] loss 0.0393445 accuracy 98.9984 %\n"
          ]
        },
        {
          "output_type": "stream",
          "name": "stderr",
          "text": [
            " 75%|███████▌  | 1504/2000 [01:49<03:54,  2.11it/s]"
          ]
        },
        {
          "output_type": "stream",
          "name": "stdout",
          "text": [
            "[train:1500] loss 0.009435453 accuracy 99.7125 %\n",
            "[test:1500] loss 0.040808126 accuracy 98.90825 %\n"
          ]
        },
        {
          "output_type": "stream",
          "name": "stderr",
          "text": [
            "100%|██████████| 2000/2000 [02:21<00:00, 14.13it/s]\n"
          ]
        }
      ]
    },
    {
      "cell_type": "code",
      "source": [
        "plot_metrics(history, \"accuracy\")\n",
        "plt.show()\n",
        "plot_metrics(history, \"loss\")"
      ],
      "metadata": {
        "id": "Q8GelTPZDbAx",
        "outputId": "8aba0094-0e77-4959-cda2-0c6537fad3fe",
        "colab": {
          "base_uri": "https://localhost:8080/",
          "height": 887
        }
      },
      "execution_count": 121,
      "outputs": [
        {
          "output_type": "display_data",
          "data": {
            "text/plain": [
              "<Figure size 640x480 with 1 Axes>"
            ],
            "image/png": "[encoded data removed]"
          },
          "metadata": {}
        },
        {
          "output_type": "display_data",
          "data": {
            "text/plain": [
              "<Figure size 640x480 with 1 Axes>"
            ],
            "image/png": "[encoded data removed]"
          },
          "metadata": {}
        }
      ]
    },
    {
      "cell_type": "code",
      "source": [
        "learning_rate = 0.005/100\n",
        "momentum = 0.9\n",
        "\n",
        "optimizer = nnx.Optimizer(model, optax.adamw(learning_rate, momentum))\n",
        "\n",
        "for i in range(3):\n",
        "  model.train()\n",
        "  for step, batch in tqdm(enumerate(train_ds.as_numpy_iterator()), total=train_steps):\n",
        "    train_step(model, optimizer, metrics, batch)\n",
        "    if step % eval_every == 0 and step > 0:\n",
        "      log_metrics(history, metrics, step)"
      ],
      "metadata": {
        "id": "WNO330ccFxv1",
        "outputId": "6b44c195-3769-4ad3-e7d5-502406d0a158",
        "colab": {
          "base_uri": "https://localhost:8080/"
        }
      },
      "execution_count": 122,
      "outputs": [
        {
          "output_type": "stream",
          "name": "stderr",
          "text": [
            " 25%|██▌       | 505/2000 [00:44<10:31,  2.37it/s]"
          ]
        },
        {
          "output_type": "stream",
          "name": "stdout",
          "text": [
            "[train:500] loss 0.0077971853 accuracy 99.773445 %\n",
            "[test:500] loss 0.040504806 accuracy 98.94832 %\n"
          ]
        },
        {
          "output_type": "stream",
          "name": "stderr",
          "text": [
            " 50%|█████     | 1004/2000 [01:22<08:04,  2.05it/s]"
          ]
        },
        {
          "output_type": "stream",
          "name": "stdout",
          "text": [
            "[train:1000] loss 0.006582318 accuracy 99.82188 %\n",
            "[test:1000] loss 0.040370177 accuracy 98.96835 %\n"
          ]
        },
        {
          "output_type": "stream",
          "name": "stderr",
          "text": [
            " 75%|███████▌  | 1504/2000 [02:03<09:29,  1.15s/it]"
          ]
        },
        {
          "output_type": "stream",
          "name": "stdout",
          "text": [
            "[train:1500] loss 0.007553931 accuracy 99.787506 %\n",
            "[test:1500] loss 0.04033887 accuracy 98.98838 %\n"
          ]
        },
        {
          "output_type": "stream",
          "name": "stderr",
          "text": [
            "100%|██████████| 2000/2000 [02:36<00:00, 12.79it/s]\n",
            " 25%|██▌       | 503/2000 [00:38<14:09,  1.76it/s]"
          ]
        },
        {
          "output_type": "stream",
          "name": "stdout",
          "text": [
            "[train:500] loss 0.0063268687 accuracy 99.839066 %\n",
            "[test:500] loss 0.040035807 accuracy 98.98838 %\n"
          ]
        },
        {
          "output_type": "stream",
          "name": "stderr",
          "text": [
            " 50%|█████     | 1003/2000 [01:13<07:46,  2.13it/s]"
          ]
        },
        {
          "output_type": "stream",
          "name": "stdout",
          "text": [
            "[train:1000] loss 0.0066108727 accuracy 99.818756 %\n",
            "[test:1000] loss 0.040321965 accuracy 98.97836 %\n"
          ]
        },
        {
          "output_type": "stream",
          "name": "stderr",
          "text": [
            " 75%|███████▌  | 1503/2000 [01:51<04:09,  2.00it/s]"
          ]
        },
        {
          "output_type": "stream",
          "name": "stdout",
          "text": [
            "[train:1500] loss 0.006917794 accuracy 99.81251 %\n",
            "[test:1500] loss 0.040483657 accuracy 98.97836 %\n"
          ]
        },
        {
          "output_type": "stream",
          "name": "stderr",
          "text": [
            "100%|██████████| 2000/2000 [02:22<00:00, 14.01it/s]\n",
            " 25%|██▌       | 504/2000 [00:41<24:18,  1.03it/s]"
          ]
        },
        {
          "output_type": "stream",
          "name": "stdout",
          "text": [
            "[train:500] loss 0.006393932 accuracy 99.83282 %\n",
            "[test:500] loss 0.04020906 accuracy 99.008415 %\n"
          ]
        },
        {
          "output_type": "stream",
          "name": "stderr",
          "text": [
            " 50%|█████     | 1003/2000 [01:18<07:54,  2.10it/s]"
          ]
        },
        {
          "output_type": "stream",
          "name": "stdout",
          "text": [
            "[train:1000] loss 0.0061829546 accuracy 99.83125 %\n",
            "[test:1000] loss 0.0402574 accuracy 98.958336 %\n"
          ]
        },
        {
          "output_type": "stream",
          "name": "stderr",
          "text": [
            " 75%|███████▌  | 1505/2000 [01:55<04:17,  1.92it/s]"
          ]
        },
        {
          "output_type": "stream",
          "name": "stdout",
          "text": [
            "[train:1500] loss 0.0069889706 accuracy 99.79688 %\n",
            "[test:1500] loss 0.040476616 accuracy 98.98838 %\n"
          ]
        },
        {
          "output_type": "stream",
          "name": "stderr",
          "text": [
            "100%|██████████| 2000/2000 [02:24<00:00, 13.79it/s]\n"
          ]
        }
      ]
    },
    {
      "cell_type": "code",
      "source": [
        "@nnx.jit\n",
        "def predict(model, batch):\n",
        "  logits = model(batch)\n",
        "  probs = nnx.softmax(logits, axis=-1)\n",
        "  return jnp.argmax(probs, axis=-1), probs\n",
        "\n"
      ],
      "metadata": {
        "id": "CI07-9ffF14O"
      },
      "execution_count": 124,
      "outputs": []
    },
    {
      "cell_type": "code",
      "source": [
        "def view_batch_preds(model, batch, rows=5, cols=5):\n",
        "  fig, axs = plt.subplots(rows, cols, figsize=(12, 12))\n",
        "  preds, _ = predict(model, batch[\"image\"])\n",
        "  for i, ax in enumerate(axs.flat):\n",
        "    ax.imshow(batch[\"image\"][i], cmap=\"gray\")\n",
        "    ax.set_title(f\"Label: {batch['label'][i]}, Predicted {preds[i]}\")\n",
        "    ax.axis('off')\n",
        "view_batch_preds(model, test_ds.as_numpy_iterator().next(), rows=5, cols=5)"
      ],
      "metadata": {
        "id": "zgPut9ARIhiC",
        "outputId": "3e88d7d5-66c0-499f-dcd5-ba1570aa197f",
        "colab": {
          "base_uri": "https://localhost:8080/",
          "height": 983
        }
      },
      "execution_count": 127,
      "outputs": [
        {
          "output_type": "display_data",
          "data": {
            "text/plain": [
              "<Figure size 1200x1200 with 25 Axes>"
            ],
            "image/png": "[encoded data removed]"
          },
          "metadata": {}
        }
      ]
    }
  ],
  "metadata": {
    "language_info": {
      "name": "python"
    },
    "colab": {
      "provenance": [],
      "gpuType": "T4"
    },
    "accelerator": "GPU",
    "kernelspec": {
      "name": "python3",
      "display_name": "Python 3"
    }
  },
  "nbformat": 4,
  "nbformat_minor": 0
}