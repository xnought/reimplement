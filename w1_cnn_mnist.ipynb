{
  "cells": [
    {
      "cell_type": "markdown",
      "metadata": {
        "id": "2faecXJwEjPQ"
      },
      "source": [
        "# CNN on MNIST\n",
        "\n",
        "First I'll see how jax works, then I'll get serious and use Flax or Keras3 to train a CNN on MNIST.\n",
        "\n",
        "I'll go for the smallest model I can with the best accuracy."
      ]
    },
    {
      "cell_type": "code",
      "execution_count": 1,
      "metadata": {
        "id": "MQe1gscSEjPQ"
      },
      "outputs": [],
      "source": [
        "import jax.numpy as jnp\n",
        "import matplotlib.pyplot as plt\n",
        "from tqdm import tqdm\n",
        "from jax import grad, jit, vmap\n",
        "from jax import random\n",
        "\n",
        "key = random.key(0)"
      ]
    },
    {
      "cell_type": "code",
      "execution_count": null,
      "metadata": {
        "id": "1q8FgNK0EjPR",
        "outputId": "05b04ee9-9e57-4038-9462-bc7cdfbe466a"
      },
      "outputs": [
        {
          "data": {
            "text/plain": [
              "Array([1., 2., 3.], dtype=float32)"
            ]
          },
          "execution_count": 57,
          "metadata": {},
          "output_type": "execute_result"
        }
      ],
      "source": [
        "a = jnp.array([1,2,3], dtype=jnp.float32)\n",
        "a"
      ]
    },
    {
      "cell_type": "code",
      "execution_count": null,
      "metadata": {
        "id": "ItHXE97yEjPR",
        "outputId": "1b5b3746-0268-4e39-9c24-a9072aad1e16"
      },
      "outputs": [
        {
          "data": {
            "text/plain": [
              "Array([2., 4., 6.], dtype=float32)"
            ]
          },
          "execution_count": 58,
          "metadata": {},
          "output_type": "execute_result"
        }
      ],
      "source": [
        "b = a.clone()\n",
        "b*=2\n",
        "b"
      ]
    },
    {
      "cell_type": "code",
      "execution_count": null,
      "metadata": {
        "id": "ovDMGVVTEjPR",
        "outputId": "b617abe0-ff86-40b4-b120-3298c95986c2"
      },
      "outputs": [
        {
          "data": {
            "text/plain": [
              "(Array([2., 4., 6.], dtype=float32), Array([1., 2., 3.], dtype=float32))"
            ]
          },
          "execution_count": 59,
          "metadata": {},
          "output_type": "execute_result"
        }
      ],
      "source": [
        "def matmul(a,b):\n",
        "\treturn a @ b\n",
        "grad(matmul, (0,1))(a,b)"
      ]
    },
    {
      "cell_type": "code",
      "execution_count": null,
      "metadata": {
        "id": "e-BQmk1IEjPS",
        "outputId": "761b9753-d040-46b2-9a1d-d4723a72fe47"
      },
      "outputs": [
        {
          "data": {
            "text/plain": [
              "Array([[ 0.44198492,  1.4162407 ,  1.1836281 , ...,  0.76268387,\n",
              "         1.6730201 , -0.7919397 ],\n",
              "       [ 0.3699017 , -0.6458218 ,  0.34752584, ...,  0.37117738,\n",
              "        -0.12576506,  0.15747534],\n",
              "       [ 0.5894196 , -1.1405163 , -2.1414492 , ...,  0.32962143,\n",
              "        -0.1306958 , -0.33589256],\n",
              "       ...,\n",
              "       [-0.34253454, -0.83690214,  0.2501121 , ..., -0.8274586 ,\n",
              "        -0.37825716, -0.72685933],\n",
              "       [-0.21192348,  1.0094156 , -1.3232409 , ...,  0.6742543 ,\n",
              "         0.4670012 , -0.26775917],\n",
              "       [ 2.217044  ,  0.9682738 ,  0.7508859 , ..., -0.51736134,\n",
              "         0.43506762,  0.26947   ]], dtype=float32)"
            ]
          },
          "execution_count": 36,
          "metadata": {},
          "output_type": "execute_result"
        }
      ],
      "source": [
        "t = random.normal(key, (32,32))\n",
        "t"
      ]
    },
    {
      "cell_type": "code",
      "execution_count": null,
      "metadata": {
        "id": "ilCQ6M23EjPS",
        "outputId": "f1e07af4-37f7-4682-bc49-a0931e6d62d4"
      },
      "outputs": [
        {
          "data": {
            "text/plain": [
              "Array([[ 1.0000000e+00, -4.3263549e-07,  3.2943905e-07, ...,\n",
              "        -6.0542902e-07, -4.7928165e-07,  4.5479263e-07],\n",
              "       [-5.6935903e-07,  1.0000002e+00, -1.5449623e-07, ...,\n",
              "        -1.0179974e-06,  5.4067942e-07,  1.0584798e-06],\n",
              "       [-4.1683845e-07,  3.9890290e-07,  1.0000001e+00, ...,\n",
              "         2.8305678e-07,  6.5310269e-07,  1.7909557e-08],\n",
              "       ...,\n",
              "       [-3.0620704e-08, -1.6480183e-07,  1.0404414e-07, ...,\n",
              "         9.9999994e-01,  4.8468581e-07,  5.3519943e-07],\n",
              "       [ 1.4901161e-07, -7.4505806e-08,  9.6857548e-08, ...,\n",
              "         1.7881393e-07,  9.9999988e-01, -1.2107193e-07],\n",
              "       [-7.7113509e-07, -1.7881393e-07,  3.5762787e-07, ...,\n",
              "        -1.4901161e-07,  2.6822090e-07,  1.0000006e+00]], dtype=float32)"
            ]
          },
          "execution_count": 38,
          "metadata": {},
          "output_type": "execute_result"
        }
      ],
      "source": [
        "jnp.linalg.inv(t)@t"
      ]
    },
    {
      "cell_type": "markdown",
      "metadata": {
        "id": "xDjb5BQIEjPS"
      },
      "source": [
        "Okay, seems simple enough, how do I load stuff into the GPU and JIT?"
      ]
    },
    {
      "cell_type": "code",
      "execution_count": null,
      "metadata": {
        "id": "JrprzRo8EjPS",
        "outputId": "c51be39f-0c99-433a-c650-3a06f36aa70a"
      },
      "outputs": [
        {
          "data": {
            "text/plain": [
              "[<matplotlib.lines.Line2D at 0x11e20f9b0>]"
            ]
          },
          "execution_count": 40,
          "metadata": {},
          "output_type": "execute_result"
        },
        {
          "data": {
            "image/png": "[encoded data removed]",
            "text/plain": [
              "<Figure size 640x480 with 1 Axes>"
            ]
          },
          "metadata": {},
          "output_type": "display_data"
        }
      ],
      "source": [
        "def gelu(x):\n",
        "\treturn 0.5*x*(1 + jnp.tanh(\n",
        "\t\tjnp.sqrt(2/jnp.pi)*(x + 0.044715*jnp.pow(x, 3))\n",
        "\t))\n",
        "\n",
        "xs = jnp.linspace(-4,4, 100)\n",
        "ys = gelu(xs)\n",
        "plt.plot(xs, ys)"
      ]
    },
    {
      "cell_type": "code",
      "execution_count": null,
      "metadata": {
        "id": "ZBxxYR9-EjPS",
        "outputId": "564195e9-6b39-407d-e4d4-73578c1a0d67"
      },
      "outputs": [
        {
          "name": "stdout",
          "output_type": "stream",
          "text": [
            "260 μs ± 49.9 μs per loop (mean ± std. dev. of 7 runs, 1,000 loops each)\n"
          ]
        }
      ],
      "source": [
        "%timeit gelu(xs).block_until_ready()"
      ]
    },
    {
      "cell_type": "code",
      "execution_count": null,
      "metadata": {
        "id": "MaNBJDcVEjPT"
      },
      "outputs": [],
      "source": [
        "gelu_jit = jit(gelu)"
      ]
    },
    {
      "cell_type": "code",
      "execution_count": null,
      "metadata": {
        "id": "FGH88WGUEjPT",
        "outputId": "fb315e33-e01a-4a3f-c04e-d81ab0a7ef29"
      },
      "outputs": [
        {
          "name": "stdout",
          "output_type": "stream",
          "text": [
            "9.12 μs ± 87.6 ns per loop (mean ± std. dev. of 7 runs, 100,000 loops each)\n"
          ]
        }
      ],
      "source": [
        "%timeit gelu_jit(xs).block_until_ready()"
      ]
    },
    {
      "cell_type": "code",
      "execution_count": null,
      "metadata": {
        "id": "3bMaKZa8EjPT",
        "outputId": "1e5cf920-1433-4fa5-ab5f-95b72151741a"
      },
      "outputs": [
        {
          "data": {
            "text/plain": [
              "[<matplotlib.lines.Line2D at 0x126634e30>]"
            ]
          },
          "execution_count": 45,
          "metadata": {},
          "output_type": "execute_result"
        },
        {
          "data": {
            "image/png": "[encoded data removed]",
            "text/plain": [
              "<Figure size 640x480 with 1 Axes>"
            ]
          },
          "metadata": {},
          "output_type": "display_data"
        }
      ],
      "source": [
        "plt.plot(xs, gelu_jit(xs))"
      ]
    },
    {
      "cell_type": "markdown",
      "metadata": {
        "id": "DJQC21XFEjPT"
      },
      "source": [
        "JIT works real well! How about on GPU or other ways to parallelize?"
      ]
    },
    {
      "cell_type": "code",
      "execution_count": null,
      "metadata": {
        "id": "KBp13cgjEjPT",
        "outputId": "1f667999-c3fc-4e5f-ed38-2216e1b2c71f"
      },
      "outputs": [
        {
          "data": {
            "text/plain": [
              "Array([[11],\n",
              "       [25]], dtype=int32)"
            ]
          },
          "execution_count": 52,
          "metadata": {},
          "output_type": "execute_result"
        }
      ],
      "source": [
        "def mat_vec_mul(a,b):\n",
        "\treturn a @ b\n",
        "\n",
        "mat_vec_mul(jnp.array([[1,2], [3,4]]), jnp.array([[3], [4]]))"
      ]
    },
    {
      "cell_type": "code",
      "execution_count": null,
      "metadata": {
        "id": "LYN2jIwLEjPU",
        "outputId": "7f2f2ce1-5b37-43bf-e8cf-db153bfba595"
      },
      "outputs": [
        {
          "name": "stdout",
          "output_type": "stream",
          "text": [
            "[[ 7 10]\n",
            " [15 22]]\n",
            "[[ 7 10]\n",
            " [15 22]]\n"
          ]
        }
      ],
      "source": [
        "def mat_mat_mul(a,b):\n",
        "\treturn vmap(mat_vec_mul, (None, 1), 1)(a,b)\n",
        "\n",
        "\n",
        "mat = jnp.array([[1,2], [3,4]])\n",
        "print(mat@mat)\n",
        "print(mat_mat_mul(mat, mat))"
      ]
    },
    {
      "cell_type": "markdown",
      "metadata": {
        "id": "9THNJE8rEjPU"
      },
      "source": [
        "Okay I generally get the gist of it, let's see how to load objects into other devices."
      ]
    },
    {
      "cell_type": "code",
      "execution_count": 2,
      "metadata": {
        "colab": {
          "base_uri": "https://localhost:8080/"
        },
        "id": "MV0drU8FEjPU",
        "outputId": "b5dfb69c-c42a-4b63-a5bc-b998d45a9520"
      },
      "outputs": [
        {
          "output_type": "stream",
          "name": "stdout",
          "text": [
            "gpu\n"
          ]
        },
        {
          "output_type": "stream",
          "name": "stderr",
          "text": [
            "<ipython-input-2-dd3a9dbad2db>:3: DeprecationWarning: jax.lib.xla_bridge.get_backend is deprecated; use jax.extend.backend.get_backend.\n",
            "  print(xla_bridge.get_backend().platform)\n"
          ]
        }
      ],
      "source": [
        "from jax.lib import xla_bridge\n",
        "\n",
        "print(xla_bridge.get_backend().platform)"
      ]
    },
    {
      "cell_type": "code",
      "source": [
        "a = random.normal(key, (100, 100))\n",
        "a"
      ],
      "metadata": {
        "colab": {
          "base_uri": "https://localhost:8080/"
        },
        "id": "-cbVJufyE1pw",
        "outputId": "fbeabaa9-8c01-4fad-84f6-898a83043b54"
      },
      "execution_count": 3,
      "outputs": [
        {
          "output_type": "execute_result",
          "data": {
            "text/plain": [
              "Array([[ 1.3969241 ,  0.25045034, -2.1396856 , ...,  0.3145455 ,\n",
              "        -1.4147886 , -0.9089208 ],\n",
              "       [-0.7179685 , -0.55156016,  0.5488421 , ...,  1.0389215 ,\n",
              "         0.6316356 ,  1.2083954 ],\n",
              "       [ 0.1089396 ,  0.41924244,  0.61395687, ..., -0.25856677,\n",
              "         2.026924  , -0.840388  ],\n",
              "       ...,\n",
              "       [-1.7753865 ,  0.47193787, -1.0666512 , ..., -0.05554172,\n",
              "         1.7904825 , -0.38509572],\n",
              "       [ 1.1479    , -0.8108315 , -0.14811768, ...,  0.29534367,\n",
              "         0.20607775, -0.40122998],\n",
              "       [-0.8252757 ,  0.60466516,  2.5560381 , ...,  0.07566901,\n",
              "         1.3775586 ,  0.7038264 ]], dtype=float32)"
            ]
          },
          "metadata": {},
          "execution_count": 3
        }
      ]
    },
    {
      "cell_type": "code",
      "source": [
        "%timeit (a@a).block_until_ready()"
      ],
      "metadata": {
        "colab": {
          "base_uri": "https://localhost:8080/"
        },
        "id": "BuZ6Ea8PE7y8",
        "outputId": "7c4b56fe-0cbb-4dec-bbf5-2bcf4dceb81b"
      },
      "execution_count": 4,
      "outputs": [
        {
          "output_type": "stream",
          "name": "stdout",
          "text": [
            "188 µs ± 22.8 µs per loop (mean ± std. dev. of 7 runs, 1 loop each)\n"
          ]
        }
      ]
    },
    {
      "cell_type": "markdown",
      "source": [
        "## CNN MNIST NOW!\n",
        "\n",
        "Okay, I'm roughly familiar with how this works. Just to make myself more familliar, I'll use keras3 for the model code for the CNN. I'll use FLAX later on. First I'll load in the dataset for training.\n",
        "\n",
        "I'll get some help form https://keras.io/guides/writing_a_custom_training_loop_in_jax/"
      ],
      "metadata": {
        "id": "e4N80g83FgSx"
      }
    },
    {
      "cell_type": "code",
      "source": [
        "import keras"
      ],
      "metadata": {
        "id": "1xdMD_MYFfBa"
      },
      "execution_count": 5,
      "outputs": []
    },
    {
      "cell_type": "code",
      "source": [
        "(x_train, y_train), (x_test, y_test) = keras.datasets.mnist.load_data()\n",
        "print(f\"{x_train.shape=}\")\n",
        "print(f\"{y_train.shape=}\")\n",
        "print(f\"{x_test.shape=}\")\n",
        "print(f\"{y_test.shape=}\")"
      ],
      "metadata": {
        "colab": {
          "base_uri": "https://localhost:8080/"
        },
        "id": "muf03b1RF1o5",
        "outputId": "2745403b-8838-4163-bb6f-3c79b94c3671"
      },
      "execution_count": 14,
      "outputs": [
        {
          "output_type": "stream",
          "name": "stdout",
          "text": [
            "x_train.shape=(60000, 28, 28)\n",
            "y_train.shape=(60000,)\n",
            "x_test.shape=(10000, 28, 28)\n",
            "y_test.shape=(10000,)\n"
          ]
        }
      ]
    },
    {
      "cell_type": "code",
      "source": [
        "plt.imshow(x_train[0], cmap=\"gray\")\n",
        "print(\"true label\", y_train[0])"
      ],
      "metadata": {
        "colab": {
          "base_uri": "https://localhost:8080/",
          "height": 448
        },
        "id": "oFDinIVGF8n9",
        "outputId": "e6f5c812-74e1-428f-a0da-7128392060f8"
      },
      "execution_count": 15,
      "outputs": [
        {
          "output_type": "stream",
          "name": "stdout",
          "text": [
            "true label 5\n"
          ]
        },
        {
          "output_type": "display_data",
          "data": {
            "text/plain": [
              "<Figure size 640x480 with 1 Axes>"
            ],
            "image/png": "[encoded data removed]"
          },
          "metadata": {}
        }
      ]
    },
    {
      "cell_type": "markdown",
      "source": [
        "Next up create a minimal model that outputs probabilites for the digits 0-9. I will iterate on this model, so no need for it to be good at all!\n",
        "\n",
        "No special deep learning sauce to be seen yet."
      ],
      "metadata": {
        "id": "Lh4CcZv9Gugb"
      }
    },
    {
      "cell_type": "code",
      "source": [
        "def nn_v0():\n",
        "  inputs = keras.Input(shape=(28, 28))\n",
        "  flat = keras.layers.Flatten()(inputs)\n",
        "  h0 = keras.layers.Dense(128, activation=\"relu\")(flat)\n",
        "  outputs = keras.layers.Dense(10, activation=\"softmax\")(h0)\n",
        "  model = keras.Model(inputs=inputs, outputs=outputs)\n",
        "  return model\n",
        "\n",
        "model_v0 = nn_v0()\n",
        "model_v0.summary()"
      ],
      "metadata": {
        "colab": {
          "base_uri": "https://localhost:8080/",
          "height": 265
        },
        "id": "p8CDT0dMGuIP",
        "outputId": "a1c55121-20c6-49e7-c44a-20252219bd49"
      },
      "execution_count": 17,
      "outputs": [
        {
          "output_type": "display_data",
          "data": {
            "text/plain": [
              "\u001b[1mModel: \"functional_1\"\u001b[0m\n"
            ],
            "text/html": [
              "<pre style=\"white-space:pre;overflow-x:auto;line-height:normal;font-family:Menlo,'DejaVu Sans Mono',consolas,'Courier New',monospace\"><span style=\"font-weight: bold\">Model: \"functional_1\"</span>\n",
              "</pre>\n"
            ]
          },
          "metadata": {}
        },
        {
          "output_type": "display_data",
          "data": {
            "text/plain": [
              "┏━━━━━━━━━━━━━━━━━━━━━━━━━━━━━━━━━━━━━━┳━━━━━━━━━━━━━━━━━━━━━━━━━━━━━┳━━━━━━━━━━━━━━━━━┓\n",
              "┃\u001b[1m \u001b[0m\u001b[1mLayer (type)                        \u001b[0m\u001b[1m \u001b[0m┃\u001b[1m \u001b[0m\u001b[1mOutput Shape               \u001b[0m\u001b[1m \u001b[0m┃\u001b[1m \u001b[0m\u001b[1m        Param #\u001b[0m\u001b[1m \u001b[0m┃\n",
              "┡━━━━━━━━━━━━━━━━━━━━━━━━━━━━━━━━━━━━━━╇━━━━━━━━━━━━━━━━━━━━━━━━━━━━━╇━━━━━━━━━━━━━━━━━┩\n",
              "│ input_layer_1 (\u001b[38;5;33mInputLayer\u001b[0m)           │ (\u001b[38;5;45mNone\u001b[0m, \u001b[38;5;34m28\u001b[0m, \u001b[38;5;34m28\u001b[0m)              │               \u001b[38;5;34m0\u001b[0m │\n",
              "├──────────────────────────────────────┼─────────────────────────────┼─────────────────┤\n",
              "│ flatten_1 (\u001b[38;5;33mFlatten\u001b[0m)                  │ (\u001b[38;5;45mNone\u001b[0m, \u001b[38;5;34m784\u001b[0m)                 │               \u001b[38;5;34m0\u001b[0m │\n",
              "├──────────────────────────────────────┼─────────────────────────────┼─────────────────┤\n",
              "│ dense_2 (\u001b[38;5;33mDense\u001b[0m)                      │ (\u001b[38;5;45mNone\u001b[0m, \u001b[38;5;34m128\u001b[0m)                 │         \u001b[38;5;34m100,480\u001b[0m │\n",
              "├──────────────────────────────────────┼─────────────────────────────┼─────────────────┤\n",
              "│ dense_3 (\u001b[38;5;33mDense\u001b[0m)                      │ (\u001b[38;5;45mNone\u001b[0m, \u001b[38;5;34m10\u001b[0m)                  │           \u001b[38;5;34m1,290\u001b[0m │\n",
              "└──────────────────────────────────────┴─────────────────────────────┴─────────────────┘\n"
            ],
            "text/html": [
              "<pre style=\"white-space:pre;overflow-x:auto;line-height:normal;font-family:Menlo,'DejaVu Sans Mono',consolas,'Courier New',monospace\">┏━━━━━━━━━━━━━━━━━━━━━━━━━━━━━━━━━━━━━━┳━━━━━━━━━━━━━━━━━━━━━━━━━━━━━┳━━━━━━━━━━━━━━━━━┓\n",
              "┃<span style=\"font-weight: bold\"> Layer (type)                         </span>┃<span style=\"font-weight: bold\"> Output Shape                </span>┃<span style=\"font-weight: bold\">         Param # </span>┃\n",
              "┡━━━━━━━━━━━━━━━━━━━━━━━━━━━━━━━━━━━━━━╇━━━━━━━━━━━━━━━━━━━━━━━━━━━━━╇━━━━━━━━━━━━━━━━━┩\n",
              "│ input_layer_1 (<span style=\"color: #0087ff; text-decoration-color: #0087ff\">InputLayer</span>)           │ (<span style=\"color: #00d7ff; text-decoration-color: #00d7ff\">None</span>, <span style=\"color: #00af00; text-decoration-color: #00af00\">28</span>, <span style=\"color: #00af00; text-decoration-color: #00af00\">28</span>)              │               <span style=\"color: #00af00; text-decoration-color: #00af00\">0</span> │\n",
              "├──────────────────────────────────────┼─────────────────────────────┼─────────────────┤\n",
              "│ flatten_1 (<span style=\"color: #0087ff; text-decoration-color: #0087ff\">Flatten</span>)                  │ (<span style=\"color: #00d7ff; text-decoration-color: #00d7ff\">None</span>, <span style=\"color: #00af00; text-decoration-color: #00af00\">784</span>)                 │               <span style=\"color: #00af00; text-decoration-color: #00af00\">0</span> │\n",
              "├──────────────────────────────────────┼─────────────────────────────┼─────────────────┤\n",
              "│ dense_2 (<span style=\"color: #0087ff; text-decoration-color: #0087ff\">Dense</span>)                      │ (<span style=\"color: #00d7ff; text-decoration-color: #00d7ff\">None</span>, <span style=\"color: #00af00; text-decoration-color: #00af00\">128</span>)                 │         <span style=\"color: #00af00; text-decoration-color: #00af00\">100,480</span> │\n",
              "├──────────────────────────────────────┼─────────────────────────────┼─────────────────┤\n",
              "│ dense_3 (<span style=\"color: #0087ff; text-decoration-color: #0087ff\">Dense</span>)                      │ (<span style=\"color: #00d7ff; text-decoration-color: #00d7ff\">None</span>, <span style=\"color: #00af00; text-decoration-color: #00af00\">10</span>)                  │           <span style=\"color: #00af00; text-decoration-color: #00af00\">1,290</span> │\n",
              "└──────────────────────────────────────┴─────────────────────────────┴─────────────────┘\n",
              "</pre>\n"
            ]
          },
          "metadata": {}
        },
        {
          "output_type": "display_data",
          "data": {
            "text/plain": [
              "\u001b[1m Total params: \u001b[0m\u001b[38;5;34m101,770\u001b[0m (397.54 KB)\n"
            ],
            "text/html": [
              "<pre style=\"white-space:pre;overflow-x:auto;line-height:normal;font-family:Menlo,'DejaVu Sans Mono',consolas,'Courier New',monospace\"><span style=\"font-weight: bold\"> Total params: </span><span style=\"color: #00af00; text-decoration-color: #00af00\">101,770</span> (397.54 KB)\n",
              "</pre>\n"
            ]
          },
          "metadata": {}
        },
        {
          "output_type": "display_data",
          "data": {
            "text/plain": [
              "\u001b[1m Trainable params: \u001b[0m\u001b[38;5;34m101,770\u001b[0m (397.54 KB)\n"
            ],
            "text/html": [
              "<pre style=\"white-space:pre;overflow-x:auto;line-height:normal;font-family:Menlo,'DejaVu Sans Mono',consolas,'Courier New',monospace\"><span style=\"font-weight: bold\"> Trainable params: </span><span style=\"color: #00af00; text-decoration-color: #00af00\">101,770</span> (397.54 KB)\n",
              "</pre>\n"
            ]
          },
          "metadata": {}
        },
        {
          "output_type": "display_data",
          "data": {
            "text/plain": [
              "\u001b[1m Non-trainable params: \u001b[0m\u001b[38;5;34m0\u001b[0m (0.00 B)\n"
            ],
            "text/html": [
              "<pre style=\"white-space:pre;overflow-x:auto;line-height:normal;font-family:Menlo,'DejaVu Sans Mono',consolas,'Courier New',monospace\"><span style=\"font-weight: bold\"> Non-trainable params: </span><span style=\"color: #00af00; text-decoration-color: #00af00\">0</span> (0.00 B)\n",
              "</pre>\n"
            ]
          },
          "metadata": {}
        }
      ]
    },
    {
      "cell_type": "markdown",
      "source": [
        "Next up before we can do anything ever, the data needs to be in batches"
      ],
      "metadata": {
        "id": "vgpyDUQuIrkN"
      }
    },
    {
      "cell_type": "code",
      "source": [
        "x_train_batches = jnp.array_split(x_train, 300)\n",
        "y_train_batches = jnp.array_split(y_train, 300)"
      ],
      "metadata": {
        "id": "jdfO0GL5IrBP"
      },
      "execution_count": 24,
      "outputs": []
    },
    {
      "cell_type": "code",
      "source": [
        "x_train_batches[0].shape"
      ],
      "metadata": {
        "colab": {
          "base_uri": "https://localhost:8080/"
        },
        "id": "eRBtXtpxHuoV",
        "outputId": "28e407b5-0c72-43bf-96c1-7864ad2ec361"
      },
      "execution_count": 25,
      "outputs": [
        {
          "output_type": "execute_result",
          "data": {
            "text/plain": [
              "(200, 28, 28)"
            ]
          },
          "metadata": {},
          "execution_count": 25
        }
      ]
    },
    {
      "cell_type": "markdown",
      "source": [
        "Next up, define how the loss function is computed after each train step."
      ],
      "metadata": {
        "id": "Ogu0CIyJKHjk"
      }
    },
    {
      "cell_type": "code",
      "source": [],
      "metadata": {
        "id": "MhFkOvjbKLnj"
      },
      "execution_count": null,
      "outputs": []
    }
  ],
  "metadata": {
    "kernelspec": {
      "display_name": "Python 3",
      "name": "python3"
    },
    "language_info": {
      "codemirror_mode": {
        "name": "ipython",
        "version": 3
      },
      "file_extension": ".py",
      "mimetype": "text/x-python",
      "name": "python",
      "nbconvert_exporter": "python",
      "pygments_lexer": "ipython3",
      "version": "3.12.3"
    },
    "colab": {
      "provenance": [],
      "gpuType": "T4"
    },
    "accelerator": "GPU"
  },
  "nbformat": 4,
  "nbformat_minor": 0
}