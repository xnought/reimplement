{
  "cells": [
    {
      "cell_type": "markdown",
      "metadata": {
        "id": "2faecXJwEjPQ"
      },
      "source": [
        "# CNN on MNIST\n",
        "\n",
        "First I'll see how jax works, then I'll get serious and use Flax or Keras3 to train a CNN on MNIST.\n",
        "\n",
        "I'll go for the smallest model I can with the best accuracy."
      ]
    },
    {
      "cell_type": "code",
      "execution_count": null,
      "metadata": {
        "id": "MQe1gscSEjPQ"
      },
      "outputs": [],
      "source": [
        "import jax.numpy as jnp\n",
        "import matplotlib.pyplot as plt\n",
        "from tqdm import tqdm\n",
        "from jax import grad, jit, vmap\n",
        "from jax import random\n",
        "\n",
        "key = random.key(0)"
      ]
    },
    {
      "cell_type": "code",
      "execution_count": null,
      "metadata": {
        "id": "1q8FgNK0EjPR",
        "outputId": "05b04ee9-9e57-4038-9462-bc7cdfbe466a"
      },
      "outputs": [
        {
          "data": {
            "text/plain": [
              "Array([1., 2., 3.], dtype=float32)"
            ]
          },
          "execution_count": 57,
          "metadata": {},
          "output_type": "execute_result"
        }
      ],
      "source": [
        "a = jnp.array([1,2,3], dtype=jnp.float32)\n",
        "a"
      ]
    },
    {
      "cell_type": "code",
      "execution_count": null,
      "metadata": {
        "id": "ItHXE97yEjPR",
        "outputId": "1b5b3746-0268-4e39-9c24-a9072aad1e16"
      },
      "outputs": [
        {
          "data": {
            "text/plain": [
              "Array([2., 4., 6.], dtype=float32)"
            ]
          },
          "execution_count": 58,
          "metadata": {},
          "output_type": "execute_result"
        }
      ],
      "source": [
        "b = a.clone()\n",
        "b*=2\n",
        "b"
      ]
    },
    {
      "cell_type": "code",
      "execution_count": null,
      "metadata": {
        "id": "ovDMGVVTEjPR",
        "outputId": "b617abe0-ff86-40b4-b120-3298c95986c2"
      },
      "outputs": [
        {
          "data": {
            "text/plain": [
              "(Array([2., 4., 6.], dtype=float32), Array([1., 2., 3.], dtype=float32))"
            ]
          },
          "execution_count": 59,
          "metadata": {},
          "output_type": "execute_result"
        }
      ],
      "source": [
        "def matmul(a,b):\n",
        "\treturn a @ b\n",
        "grad(matmul, (0,1))(a,b)"
      ]
    },
    {
      "cell_type": "code",
      "execution_count": null,
      "metadata": {
        "id": "e-BQmk1IEjPS",
        "outputId": "761b9753-d040-46b2-9a1d-d4723a72fe47"
      },
      "outputs": [
        {
          "data": {
            "text/plain": [
              "Array([[ 0.44198492,  1.4162407 ,  1.1836281 , ...,  0.76268387,\n",
              "         1.6730201 , -0.7919397 ],\n",
              "       [ 0.3699017 , -0.6458218 ,  0.34752584, ...,  0.37117738,\n",
              "        -0.12576506,  0.15747534],\n",
              "       [ 0.5894196 , -1.1405163 , -2.1414492 , ...,  0.32962143,\n",
              "        -0.1306958 , -0.33589256],\n",
              "       ...,\n",
              "       [-0.34253454, -0.83690214,  0.2501121 , ..., -0.8274586 ,\n",
              "        -0.37825716, -0.72685933],\n",
              "       [-0.21192348,  1.0094156 , -1.3232409 , ...,  0.6742543 ,\n",
              "         0.4670012 , -0.26775917],\n",
              "       [ 2.217044  ,  0.9682738 ,  0.7508859 , ..., -0.51736134,\n",
              "         0.43506762,  0.26947   ]], dtype=float32)"
            ]
          },
          "execution_count": 36,
          "metadata": {},
          "output_type": "execute_result"
        }
      ],
      "source": [
        "t = random.normal(key, (32,32))\n",
        "t"
      ]
    },
    {
      "cell_type": "code",
      "execution_count": null,
      "metadata": {
        "id": "ilCQ6M23EjPS",
        "outputId": "f1e07af4-37f7-4682-bc49-a0931e6d62d4"
      },
      "outputs": [
        {
          "data": {
            "text/plain": [
              "Array([[ 1.0000000e+00, -4.3263549e-07,  3.2943905e-07, ...,\n",
              "        -6.0542902e-07, -4.7928165e-07,  4.5479263e-07],\n",
              "       [-5.6935903e-07,  1.0000002e+00, -1.5449623e-07, ...,\n",
              "        -1.0179974e-06,  5.4067942e-07,  1.0584798e-06],\n",
              "       [-4.1683845e-07,  3.9890290e-07,  1.0000001e+00, ...,\n",
              "         2.8305678e-07,  6.5310269e-07,  1.7909557e-08],\n",
              "       ...,\n",
              "       [-3.0620704e-08, -1.6480183e-07,  1.0404414e-07, ...,\n",
              "         9.9999994e-01,  4.8468581e-07,  5.3519943e-07],\n",
              "       [ 1.4901161e-07, -7.4505806e-08,  9.6857548e-08, ...,\n",
              "         1.7881393e-07,  9.9999988e-01, -1.2107193e-07],\n",
              "       [-7.7113509e-07, -1.7881393e-07,  3.5762787e-07, ...,\n",
              "        -1.4901161e-07,  2.6822090e-07,  1.0000006e+00]], dtype=float32)"
            ]
          },
          "execution_count": 38,
          "metadata": {},
          "output_type": "execute_result"
        }
      ],
      "source": [
        "jnp.linalg.inv(t)@t"
      ]
    },
    {
      "cell_type": "markdown",
      "metadata": {
        "id": "xDjb5BQIEjPS"
      },
      "source": [
        "Okay, seems simple enough, how do I load stuff into the GPU and JIT?"
      ]
    },
    {
      "cell_type": "code",
      "execution_count": null,
      "metadata": {
        "id": "JrprzRo8EjPS",
        "outputId": "c51be39f-0c99-433a-c650-3a06f36aa70a"
      },
      "outputs": [
        {
          "data": {
            "text/plain": [
              "[<matplotlib.lines.Line2D at 0x11e20f9b0>]"
            ]
          },
          "execution_count": 40,
          "metadata": {},
          "output_type": "execute_result"
        },
        {
          "data": {
            "image/png": "[encoded data removed]",
            "text/plain": [
              "<Figure size 640x480 with 1 Axes>"
            ]
          },
          "metadata": {},
          "output_type": "display_data"
        }
      ],
      "source": [
        "def gelu(x):\n",
        "\treturn 0.5*x*(1 + jnp.tanh(\n",
        "\t\tjnp.sqrt(2/jnp.pi)*(x + 0.044715*jnp.pow(x, 3))\n",
        "\t))\n",
        "\n",
        "xs = jnp.linspace(-4,4, 100)\n",
        "ys = gelu(xs)\n",
        "plt.plot(xs, ys)"
      ]
    },
    {
      "cell_type": "code",
      "execution_count": null,
      "metadata": {
        "id": "ZBxxYR9-EjPS",
        "outputId": "564195e9-6b39-407d-e4d4-73578c1a0d67"
      },
      "outputs": [
        {
          "name": "stdout",
          "output_type": "stream",
          "text": [
            "260 μs ± 49.9 μs per loop (mean ± std. dev. of 7 runs, 1,000 loops each)\n"
          ]
        }
      ],
      "source": [
        "%timeit gelu(xs).block_until_ready()"
      ]
    },
    {
      "cell_type": "code",
      "execution_count": null,
      "metadata": {
        "id": "MaNBJDcVEjPT"
      },
      "outputs": [],
      "source": [
        "gelu_jit = jit(gelu)"
      ]
    },
    {
      "cell_type": "code",
      "execution_count": null,
      "metadata": {
        "id": "FGH88WGUEjPT",
        "outputId": "fb315e33-e01a-4a3f-c04e-d81ab0a7ef29"
      },
      "outputs": [
        {
          "name": "stdout",
          "output_type": "stream",
          "text": [
            "9.12 μs ± 87.6 ns per loop (mean ± std. dev. of 7 runs, 100,000 loops each)\n"
          ]
        }
      ],
      "source": [
        "%timeit gelu_jit(xs).block_until_ready()"
      ]
    },
    {
      "cell_type": "code",
      "execution_count": null,
      "metadata": {
        "id": "3bMaKZa8EjPT",
        "outputId": "1e5cf920-1433-4fa5-ab5f-95b72151741a"
      },
      "outputs": [
        {
          "data": {
            "text/plain": [
              "[<matplotlib.lines.Line2D at 0x126634e30>]"
            ]
          },
          "execution_count": 45,
          "metadata": {},
          "output_type": "execute_result"
        },
        {
          "data": {
            "image/png": "[encoded data removed]",
            "text/plain": [
              "<Figure size 640x480 with 1 Axes>"
            ]
          },
          "metadata": {},
          "output_type": "display_data"
        }
      ],
      "source": [
        "plt.plot(xs, gelu_jit(xs))"
      ]
    },
    {
      "cell_type": "markdown",
      "metadata": {
        "id": "DJQC21XFEjPT"
      },
      "source": [
        "JIT works real well! How about on GPU or other ways to parallelize?"
      ]
    },
    {
      "cell_type": "code",
      "execution_count": null,
      "metadata": {
        "id": "KBp13cgjEjPT",
        "outputId": "1f667999-c3fc-4e5f-ed38-2216e1b2c71f"
      },
      "outputs": [
        {
          "data": {
            "text/plain": [
              "Array([[11],\n",
              "       [25]], dtype=int32)"
            ]
          },
          "execution_count": 52,
          "metadata": {},
          "output_type": "execute_result"
        }
      ],
      "source": [
        "def mat_vec_mul(a,b):\n",
        "\treturn a @ b\n",
        "\n",
        "mat_vec_mul(jnp.array([[1,2], [3,4]]), jnp.array([[3], [4]]))"
      ]
    },
    {
      "cell_type": "code",
      "execution_count": null,
      "metadata": {
        "id": "LYN2jIwLEjPU",
        "outputId": "7f2f2ce1-5b37-43bf-e8cf-db153bfba595"
      },
      "outputs": [
        {
          "name": "stdout",
          "output_type": "stream",
          "text": [
            "[[ 7 10]\n",
            " [15 22]]\n",
            "[[ 7 10]\n",
            " [15 22]]\n"
          ]
        }
      ],
      "source": [
        "def mat_mat_mul(a,b):\n",
        "\treturn vmap(mat_vec_mul, (None, 1), 1)(a,b)\n",
        "\n",
        "\n",
        "mat = jnp.array([[1,2], [3,4]])\n",
        "print(mat@mat)\n",
        "print(mat_mat_mul(mat, mat))"
      ]
    },
    {
      "cell_type": "markdown",
      "metadata": {
        "id": "9THNJE8rEjPU"
      },
      "source": [
        "Okay I generally get the gist of it, let's see how to load objects into other devices."
      ]
    },
    {
      "cell_type": "code",
      "execution_count": null,
      "metadata": {
        "id": "MV0drU8FEjPU",
        "outputId": "f1163cfe-b0bb-48fe-c425-2dd1cba8dd81"
      },
      "outputs": [
        {
          "name": "stdout",
          "output_type": "stream",
          "text": [
            "cpu\n"
          ]
        }
      ],
      "source": [
        "from jax.lib import xla_bridge\n",
        "\n",
        "print(xla_bridge.get_backend().platform)"
      ]
    }
  ],
  "metadata": {
    "kernelspec": {
      "display_name": "Python 3",
      "language": "python",
      "name": "python3"
    },
    "language_info": {
      "codemirror_mode": {
        "name": "ipython",
        "version": 3
      },
      "file_extension": ".py",
      "mimetype": "text/x-python",
      "name": "python",
      "nbconvert_exporter": "python",
      "pygments_lexer": "ipython3",
      "version": "3.12.3"
    },
    "colab": {
      "provenance": []
    }
  },
  "nbformat": 4,
  "nbformat_minor": 0
}